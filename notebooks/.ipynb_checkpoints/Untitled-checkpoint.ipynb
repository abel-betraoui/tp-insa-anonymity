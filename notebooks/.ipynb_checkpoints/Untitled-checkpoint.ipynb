{
 "cells": [
  {
   "cell_type": "markdown",
   "id": "8e47fc93",
   "metadata": {},
   "source": [
    "# TP 3: Données personnelles, données sensibles & anonymisation"
   ]
  },
  {
   "cell_type": "markdown",
   "id": "b23da293",
   "metadata": {},
   "source": [
    "En quoi ça les concerne: données personnelles facilement accessibles, en tant que sujet et en tant qu'utilisateur RGPD"
   ]
  },
  {
   "cell_type": "markdown",
   "id": "979eb957",
   "metadata": {},
   "source": [
    "## Données personnelles\n",
    "\n",
    "Une donnée personnelle est toute information se rapportant à une personne physique identifiée ou identifiable. Mais, parce qu’elles concernent des personnes, celles-ci doivent en conserver la maîtrise.\n",
    "\n",
    "Une personne physique peut être identifiée :\n",
    "\n",
    "* **directement** (exemple : nom et prénom) ;\n",
    "* **indirectement** (exemple : par un numéro de téléphone ou de plaque d’immatriculation, un identifiant tel que le numéro de sécurité sociale, une adresse postale ou courriel, mais aussi la voix ou l’image).\n",
    "\n",
    "L’identification d’une personne physique peut être réalisée :\n",
    "\n",
    "* à partir d’une seule donnée (exemple : nom) ;\n",
    "* à partir du **croisement d’un ensemble de données** (exemple : une femme vivant à telle adresse, née tel jour et membre dans telle association) :\n",
    "\n",
    "(Source: https://www.cnil.fr/fr/definition/donnee-personnelle)"
   ]
  },
  {
   "cell_type": "markdown",
   "id": "c5da2d7d",
   "metadata": {},
   "source": [
    "## Droits des personnes associés à leurs données\n",
    "\n",
    "* **droit à l’information**: Toute personne a un droit de regard sur ses propres données ; par conséquent, quiconque met en œuvre un fichier ou un traitement de données personnelles est obligé d’informer les personnes fichées de son identité, de l’objectif de la collecte d’informations et de son caractère obligatoire ou facultatif, des destinataires des informations, des droits reconnus à la personne, des éventuels transferts de données vers un pays hors de l’Union européenne.\n",
    "* **droit d’accès**: Toute personne peut prendre connaissance de l’intégralité des données la concernant dans un fichier en s’adressant directement à ceux qui les détiennent, et en obtenir une copie dont le coût ne peut dépasser celui de la reproduction.\n",
    "* **droit d’accès indirect**: Toute personne peut demander que la CNIL vérifie les renseignements qui peuvent la concerner dans les fichiers intéressant la sûreté de l’État, la Défense et la Sécurité publique.\n",
    "* **droit de rectification**: Toute personne peut faire rectifier, compléter, actualiser, verrouiller ou effacer des informations la concernant lorsqu’ont été décelées des erreurs, des inexactitudes ou la présence de données dont la collecte, l’utilisation, la communication ou la conservation est interdite.\n",
    "* **droit d’opposition**: Toute personne a la possibilité de s’opposer, pour des motifs légitimes, à figurer dans un fichier, et peut refuser sans avoir à se justifier, que les données qui la concernent soient utilisées à des fins de prospection commerciale.\n",
    "* **La finalité du traitement**: La finalité du traitement est l’objectif principal de l’utilisation de données personnelles. Les données sont collectées pour un but bien déterminé et légitime et ne sont pas traitées ultérieurement de façon incompatible avec cet objectif initial. Ce principe de finalité limite la manière dont le responsable de traitement peut utiliser ou réutiliser ces données dans le futur. (ex: gestion des recrutements, gestion des paies, gestion des clients, enquête de satisfaction, surveillance des locaux, etc.)\n",
    "* **accountability**:  L’accountability désigne l’obligation pour les entreprises de mettre en œuvre des mécanismes et des procédures internes permettant de démontrer le respect des règles relatives à la protection des données."
   ]
  },
  {
   "cell_type": "markdown",
   "id": "94e020ac",
   "metadata": {},
   "source": [
    "## Données sensibles\n",
    "\n",
    "Les données sensibles forment une catégorie particulière des données personnelles.\n",
    "Ce sont des informations qui révèlent la prétendue origine raciale ou ethnique, les opinions politiques, les convictions religieuses ou philosophiques ou l'appartenance syndicale, ainsi que le traitement des données génétiques, des données biométriques aux fins d'identifier une personne physique de manière unique, des données concernant la santé ou des données concernant la vie sexuelle ou l'orientation sexuelle d'une personne physique. \n",
    "\n",
    "(Source: https://www.cnil.fr/fr/definition/donnee-sensible)"
   ]
  },
  {
   "cell_type": "markdown",
   "id": "17e308aa",
   "metadata": {},
   "source": [
    "Le règlement européen interdit de recueillir ou d’utiliser ces données, sauf, notamment, dans les cas suivants :\n",
    "\n",
    "* **si la personne concernée a donné son consentement exprès** (démarche active, explicite et de préférence écrite, qui doit être libre, spécifique, et informée) ;\n",
    "* si les informations sont manifestement rendues publiques par la personne concernée\n",
    "* **si elles sont nécessaires à la sauvegarde de la vie humaine**\n",
    "* **si leur utilisation est justifiée par l'intérêt public et autorisé par la CNIL**\n",
    "* si elles concernent les membres ou adhérents d'une association ou d'une organisation politique, religieuse, philosophique, politique ou syndicale. \n"
   ]
  },
  {
   "cell_type": "markdown",
   "id": "dee0ff3f",
   "metadata": {},
   "source": [
    "# Anonymisation"
   ]
  },
  {
   "cell_type": "markdown",
   "id": "daa3c2d7",
   "metadata": {},
   "source": [
    "L’anonymisation est un traitement qui consiste à utiliser un ensemble de techniques de manière à rendre **impossible**, en pratique, toute identification de la personne par quelque moyen que ce soit et de manière **irréversible**.\n",
    "\n",
    "Le règlement général sur la protection des données (RGPD) ne comporte pas d’obligation générale d’anonymisation.\n",
    "Il s’agit d’une solution, parmi d’autres, pour pouvoir exploiter des données personnelles dans le respect des droits et libertés des personnes.\n",
    "\n",
    "En effet, l’anonymisation ouvre des potentiels de réutilisation des données initialement interdits du fait du caractère personnel des données exploitées, et permet ainsi aux acteurs d’exploiter et de partager leur « gisement » de données sans porter atteinte à la vie privée des personnes. Elle permet également de conserver des données au-delà de leur durée de conservation.\n",
    "\n",
    "Dans ce cas, la législation relative à la protection des données ne s’applique plus, car la diffusion ou la réutilisation des données anonymisées n’a pas d’impact sur la vie privée des personnes concernées.\n",
    "\n",
    "* différentes méthodes\n",
    "* equilibre en densité d'information des données et caractère anonyme"
   ]
  },
  {
   "cell_type": "markdown",
   "id": "44cfa188",
   "metadata": {},
   "source": [
    "# Anonymisation & pseudonymisation\n",
    "\n",
    "La pseudonymisation est un traitement de données personnelles réalisé de manière à ce qu'on ne puisse plus attribuer les données relatives à une personne physique sans information supplémentaire. En pratique, la pseudonymisation consiste à remplacer les données directement identifiantes (nom, prénom, etc.) d’un jeu de données par des données indirectement identifiantes (alias, numéro séquentiel, etc.).\n",
    "\n",
    "La pseudonymisation permet ainsi de traiter les données d’individus sans pouvoir identifier ceux-ci de façon directe. En pratique, il est toutefois bien souvent possible de retrouver l’identité de ceux-ci grâce à des données tierces : les données concernées conservent donc un caractère personnel. L’opération de pseudonymisation est également réversible, contrairement à l’anonymisation.\n",
    "La pseudonymisation constitue une des mesures recommandées par le RGPD pour limiter les risques liés au traitement de données personnelles."
   ]
  },
  {
   "cell_type": "markdown",
   "id": "4fb9aa0d",
   "metadata": {},
   "source": [
    "# Méthodes protection données\n",
    "\n",
    "* balayage chiffrement, droits utilisateurs, sécurité réseau, ...\n",
    "\n",
    "\n",
    "# TP\n",
    "\n",
    "* hacking données personnelles données de santé: on suppose base de données personnelles\n",
    "    * on a des données que l'on cherche à anonymiser. Plusieurs anonymisations successives pour\n",
    "    * retrouver le plus d'individus possible avec des contraintes de plus en plus difficiles sur les\n",
    "    * données (besoin de l'age exact pour X ou Y raison)."
   ]
  },
  {
   "cell_type": "markdown",
   "id": "993d52be",
   "metadata": {},
   "source": [
    "# k-anonymisation\n",
    "\n",
    "Réduire le niveau de détail des données de telle sorte qu’il y a au moins kn-uplets différents qui ont la même valeur de quasi-identifiant\n",
    "\n",
    "une chance sur k qu’on a bien lié un individu donné avec son n-uplet anonyme\n",
    "\n",
    "PB 1: certaine quantité d’information sera déjà dévoilée, en particulier de l’information négative : si on connaît le quasi-identifiant d’une personne, on pourra exclure tout un ensemble de valeurs, ou bien savoir qu’elle a de plus grandes chances d’avoir une certaine valeur sensible. (inférence)\n",
    "\n",
    "PB2 : être capable de déterminer les généralisations à effectuer pour produire les quasi-identifiants, ce qui peut être fait soit par un expert humain qui connaît le domaine, ou bien par un calcul informatique, souvent très coûteux pour une base de données réelle.\n",
    "\n",
    "# I-diversité\n",
    "\n",
    "non seulement au moins k n-uplets doivent apparaître dans une classe d’équivalence, mais en plus le champ sensible associé à la classe d’équivalence doit prendre au moins l valeurs distinctes\n",
    "\n",
    "# t-proximité\n",
    "\n",
    "confidentialité différentielle\n",
    "\n",
    "Décentraliser les données signifie que chaque personne concernée par les données gère elle même leur stockage dans un serveur personnel de données (par exemple dans un espace personnel sur le cloud, ou dans du matériel sécurisé à son domicile) et autorise ou refuse les traitements\n",
    "\n",
    "# Fun facts\n",
    "\n",
    "rix Netflix\n",
    "De 2006 à 2009, Netflix organisa une compétition offrant 1 000 000 $US à quiconque pourrait améliorer de 10% son système de recommandation (i.e. filtrage collaboratif). La société fournissait un jeu de données permettant aux candidats d'entraîner leurs modèles. Bien que l'entreprise ait au préalable pris soin de remplacer les identifiants clients par des identifiants aléatoires, les chercheurs Arvind Narayanan et Vitaly Shmatikov5 ont réussi à ré-identifier une partie de ces données à partir des notes attribuées par les membres d'IMDb. En effet, sur IMDb, les membres peuvent noter des films sans que leurs informations personnelles reliées soient anonymisées. C'est à partir de ces informations que les deux chercheurs de l'Université du Texas à Austin ont pu ré-identifier partiellement la base de données fournie par Netflix, révélant de fait l'identité et les attributs de clients de la société. Pour ces raisons, la deuxième édition en 2010 n'a pas été reconduite. \n",
    "\n",
    "Sweeney weeney l’a mis en évidence aux Etats-Unis en 2001 en croisant deux bases de données, une base de données médicale pseudonymisée et une liste électorale avec des données nominatives. Le croisement a été effectué non pas sur des champs directement identifiants, mais sur un triplet de valeurs : code postal, date de naissance et sexe, qui est unique pour environ 80% de la population des Etats-Unis3 ! Elle a ainsi pu relier des données médicales à des individus (en l’occurrence le gouverneur de l’Etat). William Weld était gouverneur du Massachusetts à l'époque et ses dossiers médicaux étaient dans les données GIC. Il vivait à Cambridge MassachusettsDans la liste des électeurs de Cambridge, 6 personnes avaient la même date de naissance que lui, mais seulement 3 d'entre eux étaient des hommes, et il était le seul dans son code postal à 5 chiffres\n",
    "\n"
   ]
  },
  {
   "cell_type": "markdown",
   "id": "d9079c4e",
   "metadata": {},
   "source": [
    "# Sources\n",
    "\n",
    "* https://www.cnil.fr/fr/les-fichiers-detat-civil\n",
    "* https://www.cnil.fr/fr/lanonymisation-de-donnees-personnelles\n",
    "* https://www.cnil.fr/fr/rnipp-repertoire-national-didentification-des-personnes-physiques-0\n",
    "* https://data.grandbesancon.fr/opendata/dataset/publicationsEtatCivilNaissance\n",
    "* https://developers.facebook.com/docs/graph-api/reference/user/?locale=fr_FR#Reading\n",
    "* https://drees.solidarites-sante.gouv.fr/IMG/pdf/4_methodes_d_anonymisation.pdf\n",
    "* https://www.marketingconnect.fr/achat-fichier/\n",
    "* https://www.cnil.fr/fr/les-durees-de-conservation-des-donnees\n",
    "* https://ec.europa.eu/justice/article-29/documentation/opinion-recommendation/files/2014/wp216_fr.pdf\n",
    "* https://epic.org/privacy/reidentification/Sweeney_Article.pdf\n",
    "* https://drees.solidarites-sante.gouv.fr/IMG/pdf/4_methodes_d_anonymisation.pdf"
   ]
  }
 ],
 "metadata": {
  "kernelspec": {
   "display_name": "Python 3",
   "language": "python",
   "name": "python3"
  },
  "language_info": {
   "codemirror_mode": {
    "name": "ipython",
    "version": 3
   },
   "file_extension": ".py",
   "mimetype": "text/x-python",
   "name": "python",
   "nbconvert_exporter": "python",
   "pygments_lexer": "ipython3",
   "version": "3.7.9"
  }
 },
 "nbformat": 4,
 "nbformat_minor": 5
}
