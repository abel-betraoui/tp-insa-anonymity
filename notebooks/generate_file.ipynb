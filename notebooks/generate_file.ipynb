{
 "cells": [
  {
   "cell_type": "code",
   "execution_count": 1,
   "id": "a05ec56b",
   "metadata": {},
   "outputs": [],
   "source": [
    "from io import BytesIO\n",
    "from pathlib import Path\n",
    "from math import ceil\n",
    "from dateutil.relativedelta import relativedelta\n",
    "from datetime import date\n",
    "from bisect import bisect\n",
    "\n",
    "import numpy as np\n",
    "import pandas as pd"
   ]
  },
  {
   "cell_type": "code",
   "execution_count": 2,
   "id": "3e43c374",
   "metadata": {},
   "outputs": [],
   "source": [
    "today = date.today()\n",
    "data_dir = Path('../data')\n",
    "generate_data_dir = data_dir / 'generate'"
   ]
  },
  {
   "cell_type": "code",
   "execution_count": 3,
   "id": "2470a6cd",
   "metadata": {},
   "outputs": [],
   "source": [
    "def handle_commune(x):\n",
    "    key = x.lower().replace(' ', '').replace('-', '').replace('\\'', '')\n",
    "    key = 'hautbréda' if key == 'lehautbréda' else key\n",
    "    return key\n",
    "\n",
    "def generate_birthdate(x):\n",
    "    if x == '100 ou plus':\n",
    "        base = 100 * 364\n",
    "        var = int(np.random.exponential(364, 1))\n",
    "    else:\n",
    "        base = int(x) * 364\n",
    "        var = np.random.randint(0, 364)\n",
    "    n_days = int(base + var)\n",
    "    return today - pd.Timedelta(days=n_days)\n",
    "\n",
    "def birthdate_to_age(birthdate):\n",
    "    return relativedelta(date.today(), pd.to_datetime(birthdate)).years"
   ]
  },
  {
   "cell_type": "code",
   "execution_count": 4,
   "id": "8acf835e",
   "metadata": {},
   "outputs": [],
   "source": [
    "cols = ('numero', 'nom_voie', 'code_postal', 'nom_commune')\n",
    "df_adresses = pd.read_csv(generate_data_dir / 'adresses-69.csv.gz', sep=';', usecols=cols, compression='gzip')\n",
    "df_adresses['adresse'] = df_adresses.apply(lambda r: ' '.join(map(str, r.values)), axis=1)\n",
    "df_adresses['code_dep'] = df_adresses.code_postal.apply(lambda x: str(x)[:2])\n",
    "df_adresses = df_adresses[df_adresses['code_dep'].apply(lambda x: x == '69')]\n",
    "df_adresses['key_commune'] = df_adresses.apply(lambda row: f\"{row['code_dep']}_{handle_commune(row['nom_commune'])}\", axis=1)\n",
    "s_n_address_per_commune = df_adresses.groupby('key_commune').size()\n",
    "df_adresses['proba_adresse'] = df_adresses['key_commune'].apply(lambda x: 1 / s_n_address_per_commune[x])"
   ]
  },
  {
   "cell_type": "code",
   "execution_count": 5,
   "id": "750e944f",
   "metadata": {},
   "outputs": [],
   "source": [
    "s1 = set(df_adresses.key_commune.unique())"
   ]
  },
  {
   "cell_type": "code",
   "execution_count": 6,
   "id": "495e54ca",
   "metadata": {},
   "outputs": [],
   "source": [
    "df_pop = pd.read_csv(generate_data_dir / 'Communes.csv', sep=';', usecols=('COM', 'CODDEP', 'PTOT'))\n",
    "df_pop['key_commune'] = df_pop.apply(lambda row: f\"{row['CODDEP']}_{handle_commune(row['COM'])}\", axis=1)\n",
    "df_pop = df_pop[df_pop.key_commune.apply(lambda x: x in s1)]\n",
    "df_pop['proba_commune'] = df_pop['PTOT'] / df_pop['PTOT'].sum()\n",
    "del df_pop['COM']"
   ]
  },
  {
   "cell_type": "code",
   "execution_count": 7,
   "id": "e107c158",
   "metadata": {},
   "outputs": [
    {
     "data": {
      "text/html": [
       "<div>\n",
       "<style scoped>\n",
       "    .dataframe tbody tr th:only-of-type {\n",
       "        vertical-align: middle;\n",
       "    }\n",
       "\n",
       "    .dataframe tbody tr th {\n",
       "        vertical-align: top;\n",
       "    }\n",
       "\n",
       "    .dataframe thead th {\n",
       "        text-align: right;\n",
       "    }\n",
       "</style>\n",
       "<table border=\"1\" class=\"dataframe\">\n",
       "  <thead>\n",
       "    <tr style=\"text-align: right;\">\n",
       "      <th></th>\n",
       "      <th>patronyme</th>\n",
       "      <th>count</th>\n",
       "    </tr>\n",
       "  </thead>\n",
       "  <tbody>\n",
       "    <tr>\n",
       "      <th>0</th>\n",
       "      <td>MARTIN</td>\n",
       "      <td>31781</td>\n",
       "    </tr>\n",
       "    <tr>\n",
       "      <th>1</th>\n",
       "      <td>BERNARD</td>\n",
       "      <td>16475</td>\n",
       "    </tr>\n",
       "    <tr>\n",
       "      <th>2</th>\n",
       "      <td>THOMAS</td>\n",
       "      <td>14396</td>\n",
       "    </tr>\n",
       "    <tr>\n",
       "      <th>3</th>\n",
       "      <td>DURAND</td>\n",
       "      <td>13901</td>\n",
       "    </tr>\n",
       "    <tr>\n",
       "      <th>4</th>\n",
       "      <td>ROBERT</td>\n",
       "      <td>13786</td>\n",
       "    </tr>\n",
       "  </tbody>\n",
       "</table>\n",
       "</div>"
      ],
      "text/plain": [
       "  patronyme  count\n",
       "0    MARTIN  31781\n",
       "1   BERNARD  16475\n",
       "2    THOMAS  14396\n",
       "3    DURAND  13901\n",
       "4    ROBERT  13786"
      ]
     },
     "execution_count": 7,
     "metadata": {},
     "output_type": "execute_result"
    }
   ],
   "source": [
    "df_last_name = pd.read_csv(generate_data_dir / 'patronymes.csv', sep=',').sort_values('count', ascending=False).reset_index(drop=True)\n",
    "df_last_name.head()"
   ]
  },
  {
   "cell_type": "code",
   "execution_count": 8,
   "id": "67c52d48",
   "metadata": {},
   "outputs": [],
   "source": [
    "df_first_name = pd.read_csv(generate_data_dir / 'nat2019_csv.zip', sep=';', compression='zip')\n",
    "df_first_name = df_first_name.query('annais != \"XXXX\" and preusuel != \"_PRENOMS_RARES\"')\n",
    "df_first_name.annais = df_first_name.annais.astype(int)\n",
    "df_first_name = df_first_name.query('annais > 1960')\n",
    "df_first_name = df_first_name.groupby(['preusuel', 'sexe']).nombre.sum().reset_index()\n",
    "df_first_name['proba'] = df_first_name['nombre'] / df_first_name['nombre'].sum() "
   ]
  },
  {
   "cell_type": "code",
   "execution_count": 9,
   "id": "21a213c0",
   "metadata": {},
   "outputs": [],
   "source": [
    "df_age = pd.read_excel(generate_data_dir / 'demo-pop-pyram.xlsx',\n",
    "                        skiprows=2)\n",
    "df_age = df_age.rename(columns={'Âge révolu': 'age', 'Ensemble': 'count'})[['age', 'count']].dropna()\n",
    "mask = df_age.age.apply(lambda x: True if x == '100 ou plus' else int(x) >= 19)\n",
    "df_age = df_age[mask]\n",
    "df_age['proba'] = df_age['count'] / df_age['count'].sum()"
   ]
  },
  {
   "cell_type": "code",
   "execution_count": 10,
   "id": "dd018648",
   "metadata": {},
   "outputs": [],
   "source": [
    "n = 120000\n",
    "first_names_idxes = np.random.choice(df_first_name.index, n, p=df_first_name['proba'])\n",
    "last_names = np.random.choice(df_last_name.patronyme, n, p=df_last_name['count']/df_last_name['count'].sum())\n",
    "towns = np.random.choice(df_pop.key_commune, n, p=df_pop.proba_commune)\n",
    "age = np.random.choice(df_age.age, n, p=df_age.proba)"
   ]
  },
  {
   "cell_type": "code",
   "execution_count": 11,
   "id": "1ccf6753",
   "metadata": {},
   "outputs": [],
   "source": [
    "X = np.hstack((last_names[:, np.newaxis],\n",
    "               towns[:, np.newaxis],\n",
    "               age[:, np.newaxis]))\n",
    " \n",
    "d_adresse = {kc: dfx.adresse.values for kc, dfx in df_adresses.groupby('key_commune')}\n",
    "d_cp = {kc: dfx.code_postal.values[0] for kc, dfx in df_adresses.groupby('key_commune')}\n",
    "d_rural = {kc: dfx.PTOT.values[0] < 500 for kc, dfx in df_pop.groupby('key_commune')}\n",
    "\n",
    "df = pd.DataFrame(X, columns=('nom', 'key_commune', 'age'))\n",
    "df['adresse'] = df['key_commune'].apply(lambda kc: np.random.choice(d_adresse[kc]))\n",
    "df['code_postal'] = df['key_commune'].apply(lambda kc: d_cp[kc])\n",
    "df['is_rural'] = df['key_commune'].apply(lambda kc: d_rural[kc])\n",
    "del df['key_commune']\n",
    "\n",
    "df['date_naissance'] = df['age'].apply(generate_birthdate)\n",
    "df['age'] = df['date_naissance'].apply(birthdate_to_age)\n",
    "\n",
    "df_first_name_gender = df_first_name.iloc[first_names_idxes].reset_index(drop=True).rename(columns={'preusuel': 'prenom'})\n",
    "df = pd.concat((df, df_first_name_gender), axis=1)\n",
    "df = df[['nom', 'prenom', 'sexe', 'age', 'adresse', 'code_postal', 'is_rural']]"
   ]
  },
  {
   "cell_type": "code",
   "execution_count": 12,
   "id": "92c44914",
   "metadata": {},
   "outputs": [],
   "source": [
    "df_personal_data = df.iloc[:100000].copy()\n",
    "df_personal_data_remaining = df.iloc[100000:].copy()"
   ]
  },
  {
   "cell_type": "code",
   "execution_count": 13,
   "id": "70e9631b",
   "metadata": {},
   "outputs": [],
   "source": [
    "df_personal_data[['nom', 'prenom', 'sexe', 'age', 'adresse', 'code_postal']]\\\n",
    ".to_csv(data_dir / 'personal_data.csv', sep=';', index=False)"
   ]
  },
  {
   "cell_type": "code",
   "execution_count": 14,
   "id": "898d497a",
   "metadata": {},
   "outputs": [],
   "source": [
    "df_activite = pd.read_csv(generate_data_dir / 'activite_physique.csv', sep=';')"
   ]
  },
  {
   "cell_type": "code",
   "execution_count": 15,
   "id": "d20f61fc",
   "metadata": {},
   "outputs": [],
   "source": [
    "df_alcool = pd.read_csv(generate_data_dir / 'consommation_alcool.csv', sep=';')"
   ]
  },
  {
   "cell_type": "code",
   "execution_count": 16,
   "id": "4830b357",
   "metadata": {},
   "outputs": [],
   "source": [
    "df_hta = pd.read_csv(generate_data_dir / 'prevalence_hta.csv', sep=';')"
   ]
  },
  {
   "cell_type": "code",
   "execution_count": 17,
   "id": "c519d2bc",
   "metadata": {},
   "outputs": [],
   "source": [
    "df_hta['prevalence_traitement'] *= 1.3\n",
    "df_hta['prevalence_diagnostic'] *= 1.3"
   ]
  },
  {
   "cell_type": "code",
   "execution_count": 18,
   "id": "3d057b09",
   "metadata": {},
   "outputs": [],
   "source": [
    "def generate_sensitive_value(dfx, age, sexe, col, low=None, lbls=None):\n",
    "    dfy = dfx.query(f'sexe == {sexe}').reset_index(drop=True)\n",
    "    splts = dfy.age.apply(lambda x: x.split('-')[0]).astype(int)\n",
    "    idx_age = bisect(splts, age) - 1\n",
    "    cols = [col, low] if low is not None else [col]\n",
    "    s_proba = dfy.loc[idx_age, cols].astype(float) * .01\n",
    "    roll = np.random.rand(len(cols))\n",
    "    res = s_proba > roll\n",
    "\n",
    "    if len(res) > 1:\n",
    "        if res[0]:\n",
    "            return lbls[0]\n",
    "        elif res[1]:\n",
    "            return lbls[1]\n",
    "        else:\n",
    "            return lbls[2]\n",
    "    else:\n",
    "        return res.values[0]"
   ]
  },
  {
   "cell_type": "code",
   "execution_count": 19,
   "id": "66614c0c",
   "metadata": {},
   "outputs": [],
   "source": [
    "df_sensitive_data = pd.concat(\n",
    " [\n",
    "     df_personal_data.query('age < 75 and age>=60 and is_rural==True'),\n",
    "     df_personal_data.query('age < 75 and age>=60 and is_rural==False').sample(250),\n",
    "     df_personal_data.query('age < 60 and is_rural==True'),\n",
    "     df_personal_data.query('age < 60 and is_rural==False').sample(350),\n",
    "     df_personal_data_remaining.sample(300)\n",
    " ]\n",
    ")\n",
    "\n",
    "df_sensitive_data['date_naissance'] = df_sensitive_data['age'].apply(generate_birthdate)"
   ]
  },
  {
   "cell_type": "code",
   "execution_count": 20,
   "id": "9fa9a399",
   "metadata": {},
   "outputs": [],
   "source": [
    "df_sensitive_data = df_sensitive_data.sort_values(['nom', 'prenom']).reset_index(drop=True)"
   ]
  },
  {
   "cell_type": "code",
   "execution_count": 21,
   "id": "82718401",
   "metadata": {},
   "outputs": [],
   "source": [
    "df_sensitive_data['consommation_alcool'] = df_sensitive_data.apply(lambda row: generate_sensitive_value(df_alcool, row.age, row.sexe, 'alcool_quotidien', low='alcool_annuel', lbls=['élevée', 'modérée', 'faible']), axis=1)\n",
    "df_sensitive_data['activite_physique'] = df_sensitive_data.apply(lambda row: generate_sensitive_value(df_activite, row.age, row.sexe, 'atteinte_objectif_quotidien'), axis=1)\n",
    "df_sensitive_data['tension_arterielle'] = df_sensitive_data.apply(lambda row: generate_sensitive_value(df_hta, row.age, row.sexe, 'prevalence_diagnostic', low='prevalence_traitement', lbls=['très élevée', 'élevée', 'normale']), axis=1)"
   ]
  },
  {
   "cell_type": "code",
   "execution_count": 22,
   "id": "8b38f9e4",
   "metadata": {},
   "outputs": [],
   "source": [
    "df_find = pd.concat(\n",
    "    [\n",
    "        df_sensitive_data.query('(is_rural == True) and (age <=20)').sample(1),\n",
    "        df_sensitive_data.query('(is_rural == False) and (age <=20)').sample(1),\n",
    "        df_sensitive_data.query('(is_rural == True) and (age >=70)').sample(1),\n",
    "        df_sensitive_data.query('(is_rural == False) and (age >=70)').sample(1),\n",
    "        df_sensitive_data.query('(is_rural == True) and (age <70) and (age > 20)').sample(1),\n",
    "        df_sensitive_data.query('(is_rural == False) and (age <70) and (age >20)').sample(1)       \n",
    "    ]\n",
    ")[['nom', 'prenom', 'age', 'sexe', 'code_postal']]"
   ]
  },
  {
   "cell_type": "code",
   "execution_count": 23,
   "id": "5d29b0e2",
   "metadata": {},
   "outputs": [],
   "source": [
    "with open(data_dir / 'patients_to_find.md', 'w') as f:\n",
    "    f.write(df_find.to_markdown(index=False))\n",
    "    \n",
    "df_find.to_csv(data_dir /'patients_to_find.csv', sep=';', index=False)"
   ]
  },
  {
   "cell_type": "code",
   "execution_count": 24,
   "id": "bf95c0e8",
   "metadata": {},
   "outputs": [],
   "source": [
    "del df_sensitive_data['is_rural']"
   ]
  },
  {
   "cell_type": "code",
   "execution_count": 25,
   "id": "72da8c74",
   "metadata": {},
   "outputs": [],
   "source": [
    "df_sensitive_data.to_csv(data_dir / 'sensitive_data.csv', sep=';', index=False)"
   ]
  }
 ],
 "metadata": {
  "kernelspec": {
   "display_name": "Python 3",
   "language": "python",
   "name": "python3"
  },
  "language_info": {
   "codemirror_mode": {
    "name": "ipython",
    "version": 3
   },
   "file_extension": ".py",
   "mimetype": "text/x-python",
   "name": "python",
   "nbconvert_exporter": "python",
   "pygments_lexer": "ipython3",
   "version": "3.8.2"
  }
 },
 "nbformat": 4,
 "nbformat_minor": 5
}
