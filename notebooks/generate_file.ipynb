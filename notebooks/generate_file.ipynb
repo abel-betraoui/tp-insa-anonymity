{
 "cells": [
  {
   "cell_type": "code",
   "execution_count": null,
   "id": "a05ec56b",
   "metadata": {},
   "outputs": [],
   "source": [
    "from io import BytesIO\n",
    "import requests\n",
    "from math import ceil\n",
    "from dateutil.relativedelta import relativedelta\n",
    "from datetime import date\n",
    "\n",
    "import numpy as np\n",
    "import pandas as pd"
   ]
  },
  {
   "cell_type": "code",
   "execution_count": null,
   "id": "3e43c374",
   "metadata": {},
   "outputs": [],
   "source": [
    "today = date.today()"
   ]
  },
  {
   "cell_type": "code",
   "execution_count": null,
   "id": "2470a6cd",
   "metadata": {},
   "outputs": [],
   "source": [
    "def _read_url(url):\n",
    "    response = requests.get(url)\n",
    "    return BytesIO(response.content)\n",
    "    \n",
    "def read_csv_from_url(url, usecols=None, sep=';', compression=None):\n",
    "    url_content = _read_url(url)\n",
    "    return pd.read_csv(url_content, compression=compression, sep=sep, usecols=usecols)\n",
    "\n",
    "def read_excel_from_url(url, skiprows=None):\n",
    "    url_content = _read_url(url)\n",
    "    return pd.read_excel(url_content, skiprows=skiprows)\n",
    "\n",
    "def handle_commune(x):\n",
    "    key = x.lower().replace(' ', '').replace('-', '').replace('\\'', '')\n",
    "    key = 'hautbréda' if key == 'lehautbréda' else key\n",
    "    return key\n",
    "\n",
    "def generate_birthdate(x):\n",
    "    if x == '100 ou plus':\n",
    "        base = 100 * 364\n",
    "        var = int(np.random.exponential(364, 1))\n",
    "    else:\n",
    "        base = int(x) * 364\n",
    "        var = np.random.randint(0, 364)\n",
    "    n_days = int(base + var)\n",
    "    return today - pd.Timedelta(days=n_days)\n",
    "\n",
    "def birthdate_to_age(birthdate):\n",
    "    return relativedelta(date.today(), pd.to_datetime(birthdate)).years"
   ]
  },
  {
   "cell_type": "code",
   "execution_count": null,
   "id": "8acf835e",
   "metadata": {},
   "outputs": [],
   "source": [
    "# get addresses from https://adresse.data.gouv.fr/donnees-nationales\n",
    "department_idxes = [69]\n",
    "cols = ('numero', 'nom_voie', 'code_postal', 'nom_commune')\n",
    "\n",
    "res = []\n",
    "for department_idx in department_idxes:\n",
    "    url = f'https://adresse.data.gouv.fr/data/ban/adresses/latest/csv/adresses-{department_idx:02d}.csv.gz'\n",
    "    dfx = read_csv_from_url(url, cols, compression='gzip')\n",
    "    res.append(dfx)\n",
    "\n",
    "df_adresses = pd.concat(res)\n",
    "df_adresses['adresse'] = df_adresses.apply(lambda r: ' '.join(map(str, r.values)), axis=1)\n",
    "df_adresses['code_dep'] = df_adresses.code_postal.apply(lambda x: str(x)[:2])\n",
    "df_adresses = df_adresses[df_adresses['code_dep'].apply(lambda x: x in ('38', '69'))]\n",
    "df_adresses['key_commune'] = df_adresses.apply(lambda row: f\"{row['code_dep']}_{handle_commune(row['nom_commune'])}\", axis=1)\n",
    "s_n_address_per_commune = df_adresses.groupby('key_commune').size()\n",
    "df_adresses['proba_adresse'] = df_adresses['key_commune'].apply(lambda x: 1 / s_n_address_per_commune[x])"
   ]
  },
  {
   "cell_type": "code",
   "execution_count": null,
   "id": "750e944f",
   "metadata": {},
   "outputs": [],
   "source": [
    "s1 = set(df_adresses.key_commune.unique())"
   ]
  },
  {
   "cell_type": "code",
   "execution_count": null,
   "id": "495e54ca",
   "metadata": {},
   "outputs": [],
   "source": [
    "# get population for each town from https://www.insee.fr/fr/statistiques/4989724?sommaire=4989761#consulter\n",
    "df_pop = pd.read_csv('data/Communes.csv', sep=';', usecols=('COM', 'CODDEP', 'PTOT'))\n",
    "df_pop['key_commune'] = df_pop.apply(lambda row: f\"{row['CODDEP']}_{handle_commune(row['COM'])}\", axis=1)\n",
    "df_pop = df_pop[df_pop.key_commune.apply(lambda x: x in s1)]\n",
    "df_pop['proba_commune'] = df_pop['PTOT'] / df_pop['PTOT'].sum()\n",
    "del df_pop['COM']"
   ]
  },
  {
   "cell_type": "code",
   "execution_count": null,
   "id": "e107c158",
   "metadata": {},
   "outputs": [],
   "source": [
    "# get french names from https://www.data.gouv.fr/fr/datasets/liste-de-prenoms-et-patronymes/#_\n",
    "url_last_name = 'https://static.data.gouv.fr/resources/liste-de-prenoms-et-patronymes/20181014-162921/patronymes.csv'\n",
    "df_last_name = read_csv_from_url(url_last_name, sep=',').sort_values('count', ascending=False).reset_index(drop=True)\n",
    "df_last_name.head()"
   ]
  },
  {
   "cell_type": "code",
   "execution_count": null,
   "id": "67c52d48",
   "metadata": {},
   "outputs": [],
   "source": [
    "# get french first names from https://www.insee.fr/fr/statistiques/2540004?sommaire=4767262#consulter\n",
    "url_first_name = 'https://www.insee.fr/fr/statistiques/fichier/2540004/nat2019_csv.zip'\n",
    "df_first_name = read_csv_from_url(url_first_name, sep=';', compression='zip')\n",
    "df_first_name = df_first_name.query('annais != \"XXXX\" and preusuel != \"_PRENOMS_RARES\"')\n",
    "df_first_name.annais = df_first_name.annais.astype(int)\n",
    "df_first_name = df_first_name.query('annais > 1960')\n",
    "df_first_name = df_first_name.groupby(['preusuel', 'sexe']).nombre.sum().reset_index()\n",
    "df_first_name['proba'] = df_first_name['nombre'] / df_first_name['nombre'].sum() "
   ]
  },
  {
   "cell_type": "code",
   "execution_count": null,
   "id": "21a213c0",
   "metadata": {},
   "outputs": [],
   "source": [
    "# get age pyramid from https://www.insee.fr/fr/statistiques/fichier/2381472/demo-pop-pyram.xlsx\n",
    "df_age = read_excel_from_url('https://www.insee.fr/fr/statistiques/fichier/2381472/demo-pop-pyram.xlsx',\n",
    "                             skiprows=2)\n",
    "df_age = df_age.rename(columns={'Âge révolu': 'age', 'Ensemble': 'count'})[['age', 'count']].dropna()\n",
    "mask = df_age.age.apply(lambda x: True if x == '100 ou plus' else int(x)>14)\n",
    "df_age = df_age[mask]\n",
    "df_age['proba'] = df_age['count'] / df_age['count'].sum()"
   ]
  },
  {
   "cell_type": "code",
   "execution_count": null,
   "id": "9cc17179",
   "metadata": {},
   "outputs": [],
   "source": [
    "# generate file"
   ]
  },
  {
   "cell_type": "code",
   "execution_count": null,
   "id": "dd018648",
   "metadata": {},
   "outputs": [],
   "source": [
    "n = 120000\n",
    "first_names_idxes = np.random.choice(df_first_name.index, n, p=df_first_name['proba'])\n",
    "last_names = np.random.choice(df_last_name.patronyme, n, p=df_last_name['count']/df_last_name['count'].sum())\n",
    "towns = np.random.choice(df_pop.key_commune, n, p=df_pop.proba_commune)\n",
    "age = np.random.choice(df_age.age, n, p=df_age.proba)"
   ]
  },
  {
   "cell_type": "code",
   "execution_count": null,
   "id": "1ccf6753",
   "metadata": {},
   "outputs": [],
   "source": [
    "X = np.hstack((last_names[:, np.newaxis],\n",
    "               towns[:, np.newaxis],\n",
    "               age[:, np.newaxis]))\n",
    " \n",
    "d_adresse = {kc: dfx.adresse.values for kc, dfx in df_adresses.groupby('key_commune')}\n",
    "d_cp = {kc: dfx.code_postal.values for kc, dfx in df_adresses.groupby('key_commune')}\n",
    "\n",
    "df = pd.DataFrame(X, columns=('nom', 'key_commune', 'age'))\n",
    "df['adresse'] = df['key_commune'].apply(lambda kc: np.random.choice(d_adresse[kc]))\n",
    "df['code_postal'] = df['key_commune'].apply(lambda kc: np.random.choice(d_cp[kc]))\n",
    "del df['key_commune']\n",
    "\n",
    "df['date_naissance'] = df['age'].apply(generate_birthdate)\n",
    "df['age'] = df['date_naissance'].apply(birthdate_to_age)\n",
    "\n",
    "df_first_name_gender = df_first_name.iloc[first_names_idxes].reset_index(drop=True).rename(columns={'preusuel': 'prenom'})\n",
    "df = pd.concat((df, df_first_name_gender), axis=1)\n",
    "df = df[['nom', 'prenom', 'sexe', 'age', 'adresse', 'code_postal']]"
   ]
  },
  {
   "cell_type": "code",
   "execution_count": null,
   "id": "92c44914",
   "metadata": {},
   "outputs": [],
   "source": [
    "df_personal_data = df.iloc[:100000].copy()\n",
    "df_personal_data_remaining = df.iloc[100000:].copy()"
   ]
  },
  {
   "cell_type": "code",
   "execution_count": null,
   "id": "70e9631b",
   "metadata": {},
   "outputs": [],
   "source": [
    "df_personal_data.to_csv('personal_data.csv', sep=';', index=False)"
   ]
  },
  {
   "cell_type": "code",
   "execution_count": null,
   "id": "3d057b09",
   "metadata": {},
   "outputs": [],
   "source": [
    "def generate_pathologie(age, sexe):\n",
    "    age = 100 if age == '100 ou plus' else int(age)\n",
    "    if age < 15:\n",
    "        age_lbl = '<15'\n",
    "    elif 15 <= age <= 34:\n",
    "        age_lbl = '15-34'\n",
    "    elif 35 <= age <= 54:\n",
    "        age_lbl = '35-54'\n",
    "    elif 54 <= age <= 64:\n",
    "        age_lbl = '55-64'\n",
    "    elif 65 <= age <= 74:\n",
    "        age_lbl = '65-74'\n",
    "    elif 75 <= age:\n",
    "        age_lbl = '75>='\n",
    "    \n",
    "    s_probas = df_pathologie.loc[sexe, age_lbl]\n",
    "    return (s_probas >  np.random.rand(len(s_probas)))"
   ]
  },
  {
   "cell_type": "code",
   "execution_count": null,
   "id": "66614c0c",
   "metadata": {},
   "outputs": [],
   "source": [
    "df_sensitive_data = pd.concat(\n",
    " [\n",
    "     df_personal_data.query('age >= 100'),\n",
    "     df_personal_data.query('age < 100 and age>=80').sample(200),\n",
    "     df_personal_data.query('age < 80 and age>=60').sample(250),\n",
    "     df_personal_data.query('age < 60').sample(500),\n",
    "     df_personal_data_remaining.query('age >= 100'),\n",
    "     df_personal_data_remaining.query('age < 100 and age>=80').sample(20),\n",
    "     df_personal_data_remaining.query('age < 80 and age>=60').sample(25),\n",
    "     df_personal_data_remaining.query('age < 60').sample(50)     \n",
    " ]\n",
    ")\n",
    "\n",
    "df_sensitive_data['date_naissance'] = df_sensitive_data['age'].apply(generate_birthdate)"
   ]
  },
  {
   "cell_type": "code",
   "execution_count": null,
   "id": "9fa9a399",
   "metadata": {},
   "outputs": [],
   "source": [
    "df_sensitive_data = df_sensitive_data.sort_values(['nom', 'prenom']).reset_index(drop=True)"
   ]
  },
  {
   "cell_type": "code",
   "execution_count": null,
   "id": "7a2191bd",
   "metadata": {},
   "outputs": [],
   "source": [
    "# prevalence maladie :https://www.ameli.fr/fileadmin/user_upload/documents/Effectifs_par_pathologie_et_par_classe_d_age_selon_le_sexe_en_2018.xls\n",
    "df_pathologie_h = pd.read_excel('data/pathologie.xlsx', sheet_name=0, header=0, index_col=0).T\n",
    "df_pathologie_h['sexe'] = 1\n",
    "df_pathologie_h = df_pathologie_h.set_index([df_pathologie_h.sexe, df_pathologie_h.index])\n",
    "del df_pathologie_h['sexe']\n",
    "\n",
    "df_pathologie_f = pd.read_excel('data/pathologie.xlsx', sheet_name=1, header=0, index_col=0).T\n",
    "df_pathologie_f['sexe'] = 2\n",
    "df_pathologie_f = df_pathologie_f.set_index([df_pathologie_f.sexe, df_pathologie_f.index])\n",
    "del df_pathologie_f['sexe']\n",
    "\n",
    "df_pathologie = pd.concat((df_pathologie_h, df_pathologie_f))"
   ]
  },
  {
   "cell_type": "code",
   "execution_count": null,
   "id": "f3ca17c9",
   "metadata": {},
   "outputs": [],
   "source": [
    "df_pathologie"
   ]
  },
  {
   "cell_type": "code",
   "execution_count": null,
   "id": "79215802",
   "metadata": {},
   "outputs": [],
   "source": [
    "# reflechir pour avoir des donnees sensibles numeriques, discretes"
   ]
  },
  {
   "cell_type": "code",
   "execution_count": null,
   "id": "5f1e819c",
   "metadata": {},
   "outputs": [],
   "source": [
    "df_sensitive_data = pd.concat((df_sensitive_data,\n",
    "                               df_sensitive_data.apply(lambda row: generate_pathologie(row['age'], row['sexe']), axis=1)),\n",
    "                              axis=1)"
   ]
  },
  {
   "cell_type": "code",
   "execution_count": null,
   "id": "85203161",
   "metadata": {},
   "outputs": [],
   "source": [
    "cols = ['nom', 'prenom', 'sexe', 'age', 'date_naissance','adresse', 'code_postal', 'Maladies cardioneurovasculaires', 'Diabète', 'Cancers', 'Maternité']\n",
    "df_sensitive_data = df_sensitive_data[cols].rename(columns={'Maladies cardioneurovasculaires': 'maladies_cardiaques',\n",
    "                                                    'Diabète': 'diabete',\n",
    "                                                    'Cancers':'cancers',\n",
    "                                                    'Maternité': 'maternite'})"
   ]
  },
  {
   "cell_type": "code",
   "execution_count": null,
   "id": "72da8c74",
   "metadata": {},
   "outputs": [],
   "source": [
    "df_sensitive_data.to_csv('sensitive_data.csv', sep=';', index=False)"
   ]
  }
 ],
 "metadata": {
  "kernelspec": {
   "display_name": "Python 3",
   "language": "python",
   "name": "python3"
  },
  "language_info": {
   "codemirror_mode": {
    "name": "ipython",
    "version": 3
   },
   "file_extension": ".py",
   "mimetype": "text/x-python",
   "name": "python",
   "nbconvert_exporter": "python",
   "pygments_lexer": "ipython3",
   "version": "3.9.5"
  }
 },
 "nbformat": 4,
 "nbformat_minor": 5
}
