{
 "cells": [
  {
   "cell_type": "markdown",
   "id": "205bbf54",
   "metadata": {},
   "source": [
    "## Etape 1: récupérez les données et commencez à les regarder \n",
    "\n",
    "1. Créez une base sqlite localement\n",
    "2. Créez deux tables et uploadez les données\n",
    "3. Récupérez les tables sous forme de dataframe python et faites une exploration rapide de ces données.\n",
    "4. Quels sont selon vous dans les données patients les données personnelles (identificateurs & quasi-identificateurs) et les données sensibles ?\n",
    "5. De combien de patients retrouvez vous le nom en faisant une jointure entre ces deux tables ?"
   ]
  },
  {
   "cell_type": "markdown",
   "id": "f6dc5054",
   "metadata": {},
   "source": [
    "### Soluce"
   ]
  },
  {
   "cell_type": "code",
   "execution_count": 1,
   "id": "84c40f55",
   "metadata": {},
   "outputs": [],
   "source": [
    "%load_ext autoreload\n",
    "%autoreload 2\n",
    "\n",
    "from pathlib import Path\n",
    "import sqlite3\n",
    "from datetime import date\n",
    "from dateutil.relativedelta import relativedelta\n",
    "\n",
    "import numpy as np\n",
    "import pandas as pd\n",
    "\n",
    "import matplotlib.pyplot as plt\n",
    "import seaborn as sns\n",
    "import matplotlib.patches as patches\n",
    "\n",
    "from anonymity.mondrian import MondrianAnonymizer, is_k_anonymous\n",
    "\n",
    "sns.set_style(\"whitegrid\")"
   ]
  },
  {
   "cell_type": "markdown",
   "id": "fe2fbc28",
   "metadata": {},
   "source": [
    "1. Créez une base sqlite localement"
   ]
  },
  {
   "cell_type": "code",
   "execution_count": 2,
   "id": "2cd05a2c",
   "metadata": {},
   "outputs": [],
   "source": [
    "db_filepath = Path('tp_anonymisation.db')\n",
    "db_filepath.unlink(missing_ok=True) # rm db if exists"
   ]
  },
  {
   "cell_type": "code",
   "execution_count": 3,
   "id": "73cd725b",
   "metadata": {},
   "outputs": [],
   "source": [
    "conn = sqlite3.connect(db_filepath)\n",
    "c = conn.cursor()"
   ]
  },
  {
   "cell_type": "markdown",
   "id": "694c79b5",
   "metadata": {},
   "source": [
    "2. Créez deux tables et uploadez les données"
   ]
  },
  {
   "cell_type": "markdown",
   "id": "40bbd875",
   "metadata": {},
   "source": [
    "Avec sqlite3\n",
    "\n",
    "```\n",
    ".separator ;\n",
    ".import personal_data.csv personal_data\n",
    ".import sensitive_data.csv sensitive_data\n",
    ".mode list\n",
    "```"
   ]
  },
  {
   "cell_type": "markdown",
   "id": "99d648f2",
   "metadata": {},
   "source": [
    "Avec python / pandas"
   ]
  },
  {
   "cell_type": "code",
   "execution_count": 4,
   "id": "c388b4e5",
   "metadata": {},
   "outputs": [],
   "source": [
    "items_to_feed = [('personal_data.csv', 'personal_data'),\n",
    "                 ('sensitive_data.csv', 'sensitive_data')]\n",
    "\n",
    "for filepath, table_name in items_to_feed:\n",
    "    pd.read_csv(filepath, sep=';')\\\n",
    "        .to_sql(table_name, conn, if_exists='replace', index=False)"
   ]
  },
  {
   "cell_type": "markdown",
   "id": "77c4e87d",
   "metadata": {},
   "source": [
    "Récupérez les tables sous forme de dataframe python et faites une exploration rapide de ces données."
   ]
  },
  {
   "cell_type": "code",
   "execution_count": 5,
   "id": "c4ff998f",
   "metadata": {},
   "outputs": [],
   "source": [
    "q = '''\n",
    "select *\n",
    "from sensitive_data\n",
    "'''\n",
    "df_sdata = pd.read_sql(q, conn)"
   ]
  },
  {
   "cell_type": "markdown",
   "id": "9338aa0c",
   "metadata": {},
   "source": [
    "Nombre de patients dans notre fichier de données:"
   ]
  },
  {
   "cell_type": "code",
   "execution_count": 6,
   "id": "868063db",
   "metadata": {},
   "outputs": [
    {
     "data": {
      "text/plain": [
       "1077"
      ]
     },
     "execution_count": 6,
     "metadata": {},
     "output_type": "execute_result"
    }
   ],
   "source": [
    "len(df_sdata)"
   ]
  },
  {
   "cell_type": "code",
   "execution_count": 7,
   "id": "b66b315c",
   "metadata": {},
   "outputs": [
    {
     "data": {
      "text/html": [
       "<div>\n",
       "<style scoped>\n",
       "    .dataframe tbody tr th:only-of-type {\n",
       "        vertical-align: middle;\n",
       "    }\n",
       "\n",
       "    .dataframe tbody tr th {\n",
       "        vertical-align: top;\n",
       "    }\n",
       "\n",
       "    .dataframe thead th {\n",
       "        text-align: right;\n",
       "    }\n",
       "</style>\n",
       "<table border=\"1\" class=\"dataframe\">\n",
       "  <thead>\n",
       "    <tr style=\"text-align: right;\">\n",
       "      <th></th>\n",
       "      <th>nom</th>\n",
       "      <th>prenom</th>\n",
       "      <th>sexe</th>\n",
       "      <th>age</th>\n",
       "      <th>date_naissance</th>\n",
       "      <th>adresse</th>\n",
       "      <th>code_postal</th>\n",
       "      <th>maladies_cardiaques</th>\n",
       "      <th>diabete</th>\n",
       "      <th>cancers</th>\n",
       "      <th>maternite</th>\n",
       "    </tr>\n",
       "  </thead>\n",
       "  <tbody>\n",
       "    <tr>\n",
       "      <th>0</th>\n",
       "      <td>ABBAL</td>\n",
       "      <td>FRANÇOIS</td>\n",
       "      <td>1</td>\n",
       "      <td>64</td>\n",
       "      <td>1957-04-16</td>\n",
       "      <td>34 Chemin des Charbottes 69009 Lyon 9e Arrondi...</td>\n",
       "      <td>69009</td>\n",
       "      <td>1</td>\n",
       "      <td>0</td>\n",
       "      <td>0</td>\n",
       "      <td>0</td>\n",
       "    </tr>\n",
       "    <tr>\n",
       "      <th>1</th>\n",
       "      <td>ADAM</td>\n",
       "      <td>CÉCILE</td>\n",
       "      <td>2</td>\n",
       "      <td>50</td>\n",
       "      <td>1971-01-30</td>\n",
       "      <td>4 Chemin du Recou 69520 Grigny</td>\n",
       "      <td>69520</td>\n",
       "      <td>0</td>\n",
       "      <td>0</td>\n",
       "      <td>1</td>\n",
       "      <td>1</td>\n",
       "    </tr>\n",
       "    <tr>\n",
       "      <th>2</th>\n",
       "      <td>ADIASSE</td>\n",
       "      <td>LAURENCE</td>\n",
       "      <td>2</td>\n",
       "      <td>69</td>\n",
       "      <td>1952-06-25</td>\n",
       "      <td>413 Allée du 11 Novembre 1918 69300 Caluire-et...</td>\n",
       "      <td>69300</td>\n",
       "      <td>0</td>\n",
       "      <td>0</td>\n",
       "      <td>0</td>\n",
       "      <td>0</td>\n",
       "    </tr>\n",
       "    <tr>\n",
       "      <th>3</th>\n",
       "      <td>AFCHAIN</td>\n",
       "      <td>ELISE</td>\n",
       "      <td>2</td>\n",
       "      <td>82</td>\n",
       "      <td>1938-10-26</td>\n",
       "      <td>2 Place Jean Moulin 69800 Saint-Priest</td>\n",
       "      <td>69800</td>\n",
       "      <td>0</td>\n",
       "      <td>0</td>\n",
       "      <td>0</td>\n",
       "      <td>0</td>\n",
       "    </tr>\n",
       "    <tr>\n",
       "      <th>4</th>\n",
       "      <td>AGNEL</td>\n",
       "      <td>MURIEL</td>\n",
       "      <td>2</td>\n",
       "      <td>88</td>\n",
       "      <td>1933-06-10</td>\n",
       "      <td>82 Rue Sully 69006 Lyon 6e Arrondissement</td>\n",
       "      <td>69006</td>\n",
       "      <td>0</td>\n",
       "      <td>1</td>\n",
       "      <td>0</td>\n",
       "      <td>0</td>\n",
       "    </tr>\n",
       "  </tbody>\n",
       "</table>\n",
       "</div>"
      ],
      "text/plain": [
       "       nom    prenom  sexe  age date_naissance  \\\n",
       "0    ABBAL  FRANÇOIS     1   64     1957-04-16   \n",
       "1     ADAM    CÉCILE     2   50     1971-01-30   \n",
       "2  ADIASSE  LAURENCE     2   69     1952-06-25   \n",
       "3  AFCHAIN     ELISE     2   82     1938-10-26   \n",
       "4    AGNEL    MURIEL     2   88     1933-06-10   \n",
       "\n",
       "                                             adresse  code_postal  \\\n",
       "0  34 Chemin des Charbottes 69009 Lyon 9e Arrondi...        69009   \n",
       "1                     4 Chemin du Recou 69520 Grigny        69520   \n",
       "2  413 Allée du 11 Novembre 1918 69300 Caluire-et...        69300   \n",
       "3             2 Place Jean Moulin 69800 Saint-Priest        69800   \n",
       "4          82 Rue Sully 69006 Lyon 6e Arrondissement        69006   \n",
       "\n",
       "   maladies_cardiaques  diabete  cancers  maternite  \n",
       "0                    1        0        0          0  \n",
       "1                    0        0        1          1  \n",
       "2                    0        0        0          0  \n",
       "3                    0        0        0          0  \n",
       "4                    0        1        0          0  "
      ]
     },
     "execution_count": 7,
     "metadata": {},
     "output_type": "execute_result"
    }
   ],
   "source": [
    "df_sdata.head()"
   ]
  },
  {
   "cell_type": "code",
   "execution_count": 8,
   "id": "d747cd14",
   "metadata": {},
   "outputs": [
    {
     "data": {
      "image/png": "[encoded data removed]",
      "text/plain": [
       "<Figure size 720x720 with 4 Axes>"
      ]
     },
     "metadata": {},
     "output_type": "display_data"
    }
   ],
   "source": [
    "fig, ax = plt.subplots(2, 2, figsize=(10, 10))\n",
    "\n",
    "# age distribution\n",
    "ax00 = ax[0, 0]\n",
    "df_sdata['age'].hist(ax=ax00)\n",
    "ax00.set_xlabel('age')\n",
    "\n",
    "# prevalence of each disease in the population\n",
    "ax01 = ax[0, 1]\n",
    "sensitive_cols = ['maladies_cardiaques', 'diabete', 'cancers', 'maternite']\n",
    "df_sdata[sensitive_cols].mean().plot(ax=ax01, kind='barh')\n",
    "\n",
    "# sex \"ratio\"\n",
    "ax10 = ax[1, 0]\n",
    "df_sdata['sexe'].value_counts().plot(ax=ax10, kind='bar')\n",
    "\n",
    "# repartition according to department\n",
    "ax11 = ax[1, 1]\n",
    "df_sdata['code_postal'].apply(lambda x: str(x)[:2]).value_counts().plot(ax=ax11, kind='bar')\n",
    "\n",
    "fig.tight_layout()"
   ]
  },
  {
   "cell_type": "code",
   "execution_count": 9,
   "id": "57769347",
   "metadata": {},
   "outputs": [],
   "source": [
    "q = '''\n",
    "select *\n",
    "from personal_data\n",
    "'''\n",
    "df_pdata = pd.read_sql(q, conn)"
   ]
  },
  {
   "cell_type": "markdown",
   "id": "da9c67eb",
   "metadata": {},
   "source": [
    "Nombre de personnes dans notre fichier de données marketting:"
   ]
  },
  {
   "cell_type": "code",
   "execution_count": 10,
   "id": "23565424",
   "metadata": {},
   "outputs": [
    {
     "data": {
      "text/plain": [
       "100000"
      ]
     },
     "execution_count": 10,
     "metadata": {},
     "output_type": "execute_result"
    }
   ],
   "source": [
    "len(df_pdata)"
   ]
  },
  {
   "cell_type": "code",
   "execution_count": 11,
   "id": "22c82e39",
   "metadata": {},
   "outputs": [
    {
     "data": {
      "text/html": [
       "<div>\n",
       "<style scoped>\n",
       "    .dataframe tbody tr th:only-of-type {\n",
       "        vertical-align: middle;\n",
       "    }\n",
       "\n",
       "    .dataframe tbody tr th {\n",
       "        vertical-align: top;\n",
       "    }\n",
       "\n",
       "    .dataframe thead th {\n",
       "        text-align: right;\n",
       "    }\n",
       "</style>\n",
       "<table border=\"1\" class=\"dataframe\">\n",
       "  <thead>\n",
       "    <tr style=\"text-align: right;\">\n",
       "      <th></th>\n",
       "      <th>nom</th>\n",
       "      <th>prenom</th>\n",
       "      <th>sexe</th>\n",
       "      <th>age</th>\n",
       "      <th>adresse</th>\n",
       "      <th>code_postal</th>\n",
       "    </tr>\n",
       "  </thead>\n",
       "  <tbody>\n",
       "    <tr>\n",
       "      <th>0</th>\n",
       "      <td>REINERS</td>\n",
       "      <td>MICKAELLE</td>\n",
       "      <td>2</td>\n",
       "      <td>47</td>\n",
       "      <td>60 Place de l’Eglise 69830 Saint-Georges-de-Re...</td>\n",
       "      <td>69830</td>\n",
       "    </tr>\n",
       "    <tr>\n",
       "      <th>1</th>\n",
       "      <td>WURRY</td>\n",
       "      <td>LIA</td>\n",
       "      <td>2</td>\n",
       "      <td>55</td>\n",
       "      <td>8 Rue Sainte Barbe 69210 Saint-Pierre-la-Palud</td>\n",
       "      <td>69210</td>\n",
       "    </tr>\n",
       "    <tr>\n",
       "      <th>2</th>\n",
       "      <td>SCHELCHER</td>\n",
       "      <td>GINETTE</td>\n",
       "      <td>2</td>\n",
       "      <td>82</td>\n",
       "      <td>148 Boulevard de l’Europe 69310 Pierre-Bénite</td>\n",
       "      <td>69310</td>\n",
       "    </tr>\n",
       "    <tr>\n",
       "      <th>3</th>\n",
       "      <td>LARNAUDIE EIFFEL</td>\n",
       "      <td>ANGELIQUE</td>\n",
       "      <td>2</td>\n",
       "      <td>78</td>\n",
       "      <td>7 Rue Paul Verlaine 69100 Villeurbanne</td>\n",
       "      <td>69100</td>\n",
       "    </tr>\n",
       "    <tr>\n",
       "      <th>4</th>\n",
       "      <td>THOMILA</td>\n",
       "      <td>NABIL</td>\n",
       "      <td>1</td>\n",
       "      <td>50</td>\n",
       "      <td>2 Rue de la Brévenne 69210 L'Arbresle</td>\n",
       "      <td>69210</td>\n",
       "    </tr>\n",
       "  </tbody>\n",
       "</table>\n",
       "</div>"
      ],
      "text/plain": [
       "                nom     prenom  sexe  age  \\\n",
       "0           REINERS  MICKAELLE     2   47   \n",
       "1             WURRY        LIA     2   55   \n",
       "2         SCHELCHER    GINETTE     2   82   \n",
       "3  LARNAUDIE EIFFEL  ANGELIQUE     2   78   \n",
       "4           THOMILA      NABIL     1   50   \n",
       "\n",
       "                                             adresse  code_postal  \n",
       "0  60 Place de l’Eglise 69830 Saint-Georges-de-Re...        69830  \n",
       "1     8 Rue Sainte Barbe 69210 Saint-Pierre-la-Palud        69210  \n",
       "2      148 Boulevard de l’Europe 69310 Pierre-Bénite        69310  \n",
       "3             7 Rue Paul Verlaine 69100 Villeurbanne        69100  \n",
       "4              2 Rue de la Brévenne 69210 L'Arbresle        69210  "
      ]
     },
     "execution_count": 11,
     "metadata": {},
     "output_type": "execute_result"
    }
   ],
   "source": [
    "df_pdata.head()"
   ]
  },
  {
   "cell_type": "code",
   "execution_count": 12,
   "id": "98c2ee5a",
   "metadata": {},
   "outputs": [
    {
     "data": {
      "image/png": "[encoded data removed]",
      "text/plain": [
       "<Figure size 720x720 with 4 Axes>"
      ]
     },
     "metadata": {},
     "output_type": "display_data"
    }
   ],
   "source": [
    "fig, ax = plt.subplots(2, 2, figsize=(10, 10))\n",
    "\n",
    "# age distribution\n",
    "ax00 = ax[0, 0]\n",
    "df_pdata['age'].hist(ax=ax00)\n",
    "ax00.set_xlabel('age')\n",
    "\n",
    "# sex \"ratio\"\n",
    "ax10 = ax[1, 0]\n",
    "df_pdata['sexe'].value_counts().plot(ax=ax10, kind='bar')\n",
    "\n",
    "# repartition according to department\n",
    "ax11 = ax[1, 1]\n",
    "df_pdata['code_postal'].apply(lambda x: str(x)[:2]).value_counts().plot(ax=ax11, kind='bar')\n",
    "\n",
    "fig.tight_layout()"
   ]
  },
  {
   "cell_type": "markdown",
   "id": "760ec524",
   "metadata": {},
   "source": [
    "4. Quels sont selon vous dans les données patients les données personnelles (identificateurs & quasi-identificateurs) et les données sensibles ?\n",
    "5. De combien de patients retrouvez vous le nom en faisant une jointure entre ces deux tables ?"
   ]
  },
  {
   "cell_type": "code",
   "execution_count": 13,
   "id": "cc51a73d",
   "metadata": {},
   "outputs": [],
   "source": [
    "q = '''\n",
    "select sdata.*\n",
    "from sensitive_data as sdata\n",
    "inner join personal_data as pdata\n",
    "on pdata.nom = sdata.nom and pdata.prenom = sdata.prenom and pdata.adresse = sdata.adresse;\n",
    "'''\n",
    "df_join = pd.read_sql(q, conn)"
   ]
  },
  {
   "cell_type": "markdown",
   "id": "49c14e30",
   "metadata": {},
   "source": [
    "Nombre de patients de notre fichier de données qui correspondent (nom, prenom, adresse) à des personnes issues du fichier de données marketting:"
   ]
  },
  {
   "cell_type": "code",
   "execution_count": 14,
   "id": "69455d90",
   "metadata": {},
   "outputs": [
    {
     "data": {
      "text/plain": [
       "981"
      ]
     },
     "execution_count": 14,
     "metadata": {},
     "output_type": "execute_result"
    }
   ],
   "source": [
    "len(df_join)"
   ]
  },
  {
   "cell_type": "code",
   "execution_count": 15,
   "id": "f9f7f9d3",
   "metadata": {},
   "outputs": [
    {
     "data": {
      "text/html": [
       "<div>\n",
       "<style scoped>\n",
       "    .dataframe tbody tr th:only-of-type {\n",
       "        vertical-align: middle;\n",
       "    }\n",
       "\n",
       "    .dataframe tbody tr th {\n",
       "        vertical-align: top;\n",
       "    }\n",
       "\n",
       "    .dataframe thead th {\n",
       "        text-align: right;\n",
       "    }\n",
       "</style>\n",
       "<table border=\"1\" class=\"dataframe\">\n",
       "  <thead>\n",
       "    <tr style=\"text-align: right;\">\n",
       "      <th></th>\n",
       "      <th>nom</th>\n",
       "      <th>prenom</th>\n",
       "      <th>sexe</th>\n",
       "      <th>age</th>\n",
       "      <th>date_naissance</th>\n",
       "      <th>adresse</th>\n",
       "      <th>code_postal</th>\n",
       "      <th>maladies_cardiaques</th>\n",
       "      <th>diabete</th>\n",
       "      <th>cancers</th>\n",
       "      <th>maternite</th>\n",
       "    </tr>\n",
       "  </thead>\n",
       "  <tbody>\n",
       "    <tr>\n",
       "      <th>0</th>\n",
       "      <td>ABBAL</td>\n",
       "      <td>FRANÇOIS</td>\n",
       "      <td>1</td>\n",
       "      <td>64</td>\n",
       "      <td>1957-04-16</td>\n",
       "      <td>34 Chemin des Charbottes 69009 Lyon 9e Arrondi...</td>\n",
       "      <td>69009</td>\n",
       "      <td>1</td>\n",
       "      <td>0</td>\n",
       "      <td>0</td>\n",
       "      <td>0</td>\n",
       "    </tr>\n",
       "    <tr>\n",
       "      <th>1</th>\n",
       "      <td>ADAM</td>\n",
       "      <td>CÉCILE</td>\n",
       "      <td>2</td>\n",
       "      <td>50</td>\n",
       "      <td>1971-01-30</td>\n",
       "      <td>4 Chemin du Recou 69520 Grigny</td>\n",
       "      <td>69520</td>\n",
       "      <td>0</td>\n",
       "      <td>0</td>\n",
       "      <td>1</td>\n",
       "      <td>1</td>\n",
       "    </tr>\n",
       "    <tr>\n",
       "      <th>2</th>\n",
       "      <td>ADIASSE</td>\n",
       "      <td>LAURENCE</td>\n",
       "      <td>2</td>\n",
       "      <td>69</td>\n",
       "      <td>1952-06-25</td>\n",
       "      <td>413 Allée du 11 Novembre 1918 69300 Caluire-et...</td>\n",
       "      <td>69300</td>\n",
       "      <td>0</td>\n",
       "      <td>0</td>\n",
       "      <td>0</td>\n",
       "      <td>0</td>\n",
       "    </tr>\n",
       "    <tr>\n",
       "      <th>3</th>\n",
       "      <td>AFCHAIN</td>\n",
       "      <td>ELISE</td>\n",
       "      <td>2</td>\n",
       "      <td>82</td>\n",
       "      <td>1938-10-26</td>\n",
       "      <td>2 Place Jean Moulin 69800 Saint-Priest</td>\n",
       "      <td>69800</td>\n",
       "      <td>0</td>\n",
       "      <td>0</td>\n",
       "      <td>0</td>\n",
       "      <td>0</td>\n",
       "    </tr>\n",
       "    <tr>\n",
       "      <th>4</th>\n",
       "      <td>AGNEL</td>\n",
       "      <td>MURIEL</td>\n",
       "      <td>2</td>\n",
       "      <td>88</td>\n",
       "      <td>1933-06-10</td>\n",
       "      <td>82 Rue Sully 69006 Lyon 6e Arrondissement</td>\n",
       "      <td>69006</td>\n",
       "      <td>0</td>\n",
       "      <td>1</td>\n",
       "      <td>0</td>\n",
       "      <td>0</td>\n",
       "    </tr>\n",
       "  </tbody>\n",
       "</table>\n",
       "</div>"
      ],
      "text/plain": [
       "       nom    prenom  sexe  age date_naissance  \\\n",
       "0    ABBAL  FRANÇOIS     1   64     1957-04-16   \n",
       "1     ADAM    CÉCILE     2   50     1971-01-30   \n",
       "2  ADIASSE  LAURENCE     2   69     1952-06-25   \n",
       "3  AFCHAIN     ELISE     2   82     1938-10-26   \n",
       "4    AGNEL    MURIEL     2   88     1933-06-10   \n",
       "\n",
       "                                             adresse  code_postal  \\\n",
       "0  34 Chemin des Charbottes 69009 Lyon 9e Arrondi...        69009   \n",
       "1                     4 Chemin du Recou 69520 Grigny        69520   \n",
       "2  413 Allée du 11 Novembre 1918 69300 Caluire-et...        69300   \n",
       "3             2 Place Jean Moulin 69800 Saint-Priest        69800   \n",
       "4          82 Rue Sully 69006 Lyon 6e Arrondissement        69006   \n",
       "\n",
       "   maladies_cardiaques  diabete  cancers  maternite  \n",
       "0                    1        0        0          0  \n",
       "1                    0        0        1          1  \n",
       "2                    0        0        0          0  \n",
       "3                    0        0        0          0  \n",
       "4                    0        1        0          0  "
      ]
     },
     "execution_count": 15,
     "metadata": {},
     "output_type": "execute_result"
    }
   ],
   "source": [
    "df_join.head()"
   ]
  },
  {
   "cell_type": "code",
   "execution_count": 16,
   "id": "676c23fa",
   "metadata": {},
   "outputs": [
    {
     "data": {
      "text/html": [
       "<div>\n",
       "<style scoped>\n",
       "    .dataframe tbody tr th:only-of-type {\n",
       "        vertical-align: middle;\n",
       "    }\n",
       "\n",
       "    .dataframe tbody tr th {\n",
       "        vertical-align: top;\n",
       "    }\n",
       "\n",
       "    .dataframe thead th {\n",
       "        text-align: right;\n",
       "    }\n",
       "</style>\n",
       "<table border=\"1\" class=\"dataframe\">\n",
       "  <thead>\n",
       "    <tr style=\"text-align: right;\">\n",
       "      <th></th>\n",
       "      <th>nom</th>\n",
       "      <th>prenom</th>\n",
       "      <th>sexe</th>\n",
       "      <th>age</th>\n",
       "      <th>date_naissance</th>\n",
       "      <th>adresse</th>\n",
       "      <th>code_postal</th>\n",
       "      <th>maladies_cardiaques</th>\n",
       "      <th>diabete</th>\n",
       "      <th>cancers</th>\n",
       "      <th>maternite</th>\n",
       "    </tr>\n",
       "  </thead>\n",
       "  <tbody>\n",
       "  </tbody>\n",
       "</table>\n",
       "</div>"
      ],
      "text/plain": [
       "Empty DataFrame\n",
       "Columns: [nom, prenom, sexe, age, date_naissance, adresse, code_postal, maladies_cardiaques, diabete, cancers, maternite]\n",
       "Index: []"
      ]
     },
     "execution_count": 16,
     "metadata": {},
     "output_type": "execute_result"
    }
   ],
   "source": [
    "# attention aux homonymes\n",
    "q = '''\n",
    "select sdata.*\n",
    "from sensitive_data as sdata\n",
    "inner join personal_data as pdata\n",
    "on pdata.nom = sdata.nom and pdata.prenom = sdata.prenom and pdata.adresse = sdata.adresse\n",
    "group by pdata.nom, pdata.prenom, pdata.adresse\n",
    "having count(*) > 1\n",
    "'''\n",
    "pd.read_sql(q, conn)"
   ]
  },
  {
   "cell_type": "markdown",
   "id": "67980f75",
   "metadata": {},
   "source": [
    "Nombre de patients de notre fichier de données qui correspondent (nom, prenom, adresse) à des personnes issues du fichier de données marketting (sans ambiguité):"
   ]
  },
  {
   "cell_type": "code",
   "execution_count": 17,
   "id": "296344ed",
   "metadata": {},
   "outputs": [
    {
     "data": {
      "text/plain": [
       "981"
      ]
     },
     "execution_count": 17,
     "metadata": {},
     "output_type": "execute_result"
    }
   ],
   "source": [
    "len(df_join)"
   ]
  },
  {
   "cell_type": "markdown",
   "id": "83bc3dce",
   "metadata": {},
   "source": [
    "## Etape 2: Pseudonymisez vos données puis attaquez les\n",
    "\n",
    "1. Supprimer les identificateurs et les remplacer par une valeur unique par patient.\n",
    "2. Chargez les données pseudonymisées. Combien d'individus vous arrivez à identifier de manière unique et pour combien retrouvez vous le nom et le prénom ?\n",
    "    * Quelles sont selon vous les limites de la pseudonymisation ?\n",
    "    * Que feriez vous pour améliorer cette approche ?\n",
    "3. Mettez en oeuvre vos idées. Pour rappel, dans le cadre de votre étude, il vous faut conserver au minimum sujet des patients:\n",
    "    * une idée de l'âge\n",
    "    * le genre\n",
    "    * une idée de la localisation géographique"
   ]
  },
  {
   "cell_type": "markdown",
   "id": "a306718b",
   "metadata": {},
   "source": [
    "### Soluce"
   ]
  },
  {
   "cell_type": "markdown",
   "id": "5d0ef5f0",
   "metadata": {},
   "source": [
    "1. Supprimer les identificateurs et les remplacer par une valeur unique par patient."
   ]
  },
  {
   "cell_type": "code",
   "execution_count": 18,
   "id": "dcee122d",
   "metadata": {},
   "outputs": [],
   "source": [
    "del df_join['nom']\n",
    "del df_join['prenom']"
   ]
  },
  {
   "cell_type": "markdown",
   "id": "c651496a",
   "metadata": {},
   "source": [
    "2. Chargez les données pseudonymisées. Combien d'individus vous arrivez à identifier de manière unique et pour combien retrouvez vous le nom et le prénom ?\n",
    "    * Quelles sont selon vous les limites de la pseudonymisation ?\n",
    "    * Que feriez vous pour améliorer cette approche ?"
   ]
  },
  {
   "cell_type": "code",
   "execution_count": 19,
   "id": "5163d514",
   "metadata": {},
   "outputs": [],
   "source": [
    "q = '''\n",
    "create table  IF NOT EXISTS sensitive_data_pseudo\n",
    "as \n",
    "select sexe,\n",
    "       age,\n",
    "       adresse,\n",
    "       code_postal,\n",
    "       date_naissance,\n",
    "       maladies_cardiaques,\n",
    "       diabete,\n",
    "       cancers,\n",
    "       maternite\n",
    "       from sensitive_data \n",
    "\n",
    "'''\n",
    "c.execute(q)\n",
    "conn.commit()"
   ]
  },
  {
   "cell_type": "code",
   "execution_count": 20,
   "id": "250e94a2",
   "metadata": {
    "scrolled": true
   },
   "outputs": [],
   "source": [
    "q = '''\n",
    "select *\n",
    "from sensitive_data_pseudo \n",
    "group by age, sexe, adresse\n",
    "having count(*) == 1\n",
    "'''\n",
    "\n",
    "df_sdata_pseudo = pd.read_sql(q, conn)"
   ]
  },
  {
   "cell_type": "code",
   "execution_count": 21,
   "id": "fdb7c4e0",
   "metadata": {},
   "outputs": [
    {
     "data": {
      "text/html": [
       "<div>\n",
       "<style scoped>\n",
       "    .dataframe tbody tr th:only-of-type {\n",
       "        vertical-align: middle;\n",
       "    }\n",
       "\n",
       "    .dataframe tbody tr th {\n",
       "        vertical-align: top;\n",
       "    }\n",
       "\n",
       "    .dataframe thead th {\n",
       "        text-align: right;\n",
       "    }\n",
       "</style>\n",
       "<table border=\"1\" class=\"dataframe\">\n",
       "  <thead>\n",
       "    <tr style=\"text-align: right;\">\n",
       "      <th></th>\n",
       "      <th>sexe</th>\n",
       "      <th>age</th>\n",
       "      <th>adresse</th>\n",
       "      <th>code_postal</th>\n",
       "      <th>date_naissance</th>\n",
       "      <th>maladies_cardiaques</th>\n",
       "      <th>diabete</th>\n",
       "      <th>cancers</th>\n",
       "      <th>maternite</th>\n",
       "    </tr>\n",
       "  </thead>\n",
       "  <tbody>\n",
       "    <tr>\n",
       "      <th>0</th>\n",
       "      <td>1</td>\n",
       "      <td>15</td>\n",
       "      <td>21 Rue André Bonin 69004 Lyon 4e Arrondissement</td>\n",
       "      <td>69004</td>\n",
       "      <td>2006-01-04</td>\n",
       "      <td>0</td>\n",
       "      <td>0</td>\n",
       "      <td>0</td>\n",
       "      <td>0</td>\n",
       "    </tr>\n",
       "    <tr>\n",
       "      <th>1</th>\n",
       "      <td>1</td>\n",
       "      <td>15</td>\n",
       "      <td>243 Avenue Général Frère 69008 Lyon 8e Arrondi...</td>\n",
       "      <td>69008</td>\n",
       "      <td>2006-02-23</td>\n",
       "      <td>0</td>\n",
       "      <td>0</td>\n",
       "      <td>0</td>\n",
       "      <td>0</td>\n",
       "    </tr>\n",
       "    <tr>\n",
       "      <th>2</th>\n",
       "      <td>1</td>\n",
       "      <td>15</td>\n",
       "      <td>27 Rue Bellecordière 69002 Lyon 2e Arrondissement</td>\n",
       "      <td>69002</td>\n",
       "      <td>2005-11-18</td>\n",
       "      <td>0</td>\n",
       "      <td>0</td>\n",
       "      <td>0</td>\n",
       "      <td>0</td>\n",
       "    </tr>\n",
       "    <tr>\n",
       "      <th>3</th>\n",
       "      <td>1</td>\n",
       "      <td>15</td>\n",
       "      <td>5 Rue du Canal 69100 Villeurbanne</td>\n",
       "      <td>69100</td>\n",
       "      <td>2005-10-03</td>\n",
       "      <td>0</td>\n",
       "      <td>0</td>\n",
       "      <td>0</td>\n",
       "      <td>0</td>\n",
       "    </tr>\n",
       "    <tr>\n",
       "      <th>4</th>\n",
       "      <td>1</td>\n",
       "      <td>15</td>\n",
       "      <td>61 Rue Baraban 69003 Lyon 3e Arrondissement</td>\n",
       "      <td>69003</td>\n",
       "      <td>2005-06-19</td>\n",
       "      <td>0</td>\n",
       "      <td>0</td>\n",
       "      <td>0</td>\n",
       "      <td>0</td>\n",
       "    </tr>\n",
       "    <tr>\n",
       "      <th>...</th>\n",
       "      <td>...</td>\n",
       "      <td>...</td>\n",
       "      <td>...</td>\n",
       "      <td>...</td>\n",
       "      <td>...</td>\n",
       "      <td>...</td>\n",
       "      <td>...</td>\n",
       "      <td>...</td>\n",
       "      <td>...</td>\n",
       "    </tr>\n",
       "    <tr>\n",
       "      <th>1072</th>\n",
       "      <td>2</td>\n",
       "      <td>101</td>\n",
       "      <td>21 Rue Claude Boyer 69007 Lyon 7e Arrondissement</td>\n",
       "      <td>69007</td>\n",
       "      <td>1919-10-07</td>\n",
       "      <td>0</td>\n",
       "      <td>0</td>\n",
       "      <td>0</td>\n",
       "      <td>0</td>\n",
       "    </tr>\n",
       "    <tr>\n",
       "      <th>1073</th>\n",
       "      <td>2</td>\n",
       "      <td>101</td>\n",
       "      <td>8 Rue d’Auvergne 69320 Feyzin</td>\n",
       "      <td>69320</td>\n",
       "      <td>1920-01-19</td>\n",
       "      <td>1</td>\n",
       "      <td>0</td>\n",
       "      <td>0</td>\n",
       "      <td>0</td>\n",
       "    </tr>\n",
       "    <tr>\n",
       "      <th>1074</th>\n",
       "      <td>1</td>\n",
       "      <td>102</td>\n",
       "      <td>105 Impasse du Plein Ouest 69210 Bully</td>\n",
       "      <td>69210</td>\n",
       "      <td>1919-01-25</td>\n",
       "      <td>1</td>\n",
       "      <td>0</td>\n",
       "      <td>0</td>\n",
       "      <td>0</td>\n",
       "    </tr>\n",
       "    <tr>\n",
       "      <th>1075</th>\n",
       "      <td>1</td>\n",
       "      <td>102</td>\n",
       "      <td>169 Route du Bluizard 69460 Saint-Étienne-la-V...</td>\n",
       "      <td>69460</td>\n",
       "      <td>1918-11-05</td>\n",
       "      <td>1</td>\n",
       "      <td>1</td>\n",
       "      <td>1</td>\n",
       "      <td>0</td>\n",
       "    </tr>\n",
       "    <tr>\n",
       "      <th>1076</th>\n",
       "      <td>2</td>\n",
       "      <td>105</td>\n",
       "      <td>2 Chemin de Beaulieu 69720 Saint-Bonnet-de-Mure</td>\n",
       "      <td>69720</td>\n",
       "      <td>1916-05-10</td>\n",
       "      <td>1</td>\n",
       "      <td>0</td>\n",
       "      <td>0</td>\n",
       "      <td>0</td>\n",
       "    </tr>\n",
       "  </tbody>\n",
       "</table>\n",
       "<p>1077 rows × 9 columns</p>\n",
       "</div>"
      ],
      "text/plain": [
       "      sexe  age                                            adresse  \\\n",
       "0        1   15    21 Rue André Bonin 69004 Lyon 4e Arrondissement   \n",
       "1        1   15  243 Avenue Général Frère 69008 Lyon 8e Arrondi...   \n",
       "2        1   15  27 Rue Bellecordière 69002 Lyon 2e Arrondissement   \n",
       "3        1   15                  5 Rue du Canal 69100 Villeurbanne   \n",
       "4        1   15        61 Rue Baraban 69003 Lyon 3e Arrondissement   \n",
       "...    ...  ...                                                ...   \n",
       "1072     2  101   21 Rue Claude Boyer 69007 Lyon 7e Arrondissement   \n",
       "1073     2  101                      8 Rue d’Auvergne 69320 Feyzin   \n",
       "1074     1  102             105 Impasse du Plein Ouest 69210 Bully   \n",
       "1075     1  102  169 Route du Bluizard 69460 Saint-Étienne-la-V...   \n",
       "1076     2  105    2 Chemin de Beaulieu 69720 Saint-Bonnet-de-Mure   \n",
       "\n",
       "      code_postal date_naissance  maladies_cardiaques  diabete  cancers  \\\n",
       "0           69004     2006-01-04                    0        0        0   \n",
       "1           69008     2006-02-23                    0        0        0   \n",
       "2           69002     2005-11-18                    0        0        0   \n",
       "3           69100     2005-10-03                    0        0        0   \n",
       "4           69003     2005-06-19                    0        0        0   \n",
       "...           ...            ...                  ...      ...      ...   \n",
       "1072        69007     1919-10-07                    0        0        0   \n",
       "1073        69320     1920-01-19                    1        0        0   \n",
       "1074        69210     1919-01-25                    1        0        0   \n",
       "1075        69460     1918-11-05                    1        1        1   \n",
       "1076        69720     1916-05-10                    1        0        0   \n",
       "\n",
       "      maternite  \n",
       "0             0  \n",
       "1             0  \n",
       "2             0  \n",
       "3             0  \n",
       "4             0  \n",
       "...         ...  \n",
       "1072          0  \n",
       "1073          0  \n",
       "1074          0  \n",
       "1075          0  \n",
       "1076          0  \n",
       "\n",
       "[1077 rows x 9 columns]"
      ]
     },
     "execution_count": 21,
     "metadata": {},
     "output_type": "execute_result"
    }
   ],
   "source": [
    "df_sdata_pseudo"
   ]
  },
  {
   "cell_type": "code",
   "execution_count": 22,
   "id": "45da9125",
   "metadata": {},
   "outputs": [],
   "source": [
    "q = '''\n",
    "with all_matches as (\n",
    "select pdata.nom,\n",
    "       pdata.prenom,\n",
    "       sdata.*\n",
    "from sensitive_data_pseudo as sdata\n",
    "inner join personal_data as pdata\n",
    "on pdata.age = sdata.age and pdata.adresse = sdata.adresse and pdata.sexe = sdata.sexe\n",
    ")\n",
    "select *\n",
    "from all_matches\n",
    "group by age, adresse, sexe\n",
    "having count(*) == 1\n",
    "'''\n",
    "df_pseudo_identified = pd.read_sql(q, conn)"
   ]
  },
  {
   "cell_type": "markdown",
   "id": "08719f83",
   "metadata": {},
   "source": [
    "Nombre de patients de notre fichier de données pseudonymisé qui correspondent (nom, prenom, adresse) à des personnes issues du fichier de données marketting (sans ambiguité):"
   ]
  },
  {
   "cell_type": "code",
   "execution_count": 23,
   "id": "97d4f09c",
   "metadata": {},
   "outputs": [
    {
     "data": {
      "text/plain": [
       "978"
      ]
     },
     "execution_count": 23,
     "metadata": {},
     "output_type": "execute_result"
    }
   ],
   "source": [
    "len(df_pseudo_identified)"
   ]
  },
  {
   "cell_type": "code",
   "execution_count": 24,
   "id": "d738056c",
   "metadata": {},
   "outputs": [],
   "source": [
    "q = '''\n",
    "with all_matches as (\n",
    "select pdata.nom,\n",
    "       pdata.prenom,\n",
    "       sdata.*\n",
    "from sensitive_data_pseudo as sdata\n",
    "inner join personal_data as pdata\n",
    "on pdata.age = sdata.age and pdata.adresse = sdata.adresse and pdata.sexe = sdata.sexe\n",
    "),\n",
    "\n",
    "ambiguous as (\n",
    "select age, adresse, sexe\n",
    "from all_matches\n",
    "group by age, adresse, sexe\n",
    "having count(*) > 1\n",
    ")\n",
    "select sensitive_data_pseudo.*\n",
    "from sensitive_data_pseudo\n",
    "join ambiguous\n",
    "on sensitive_data_pseudo.age = ambiguous.age and sensitive_data_pseudo.sexe = ambiguous.sexe and sensitive_data_pseudo.adresse = ambiguous.adresse\n",
    "'''\n",
    "df_pseudo_unidentified = pd.read_sql(q, conn)"
   ]
  },
  {
   "cell_type": "code",
   "execution_count": 25,
   "id": "cc55fd02",
   "metadata": {},
   "outputs": [
    {
     "data": {
      "text/html": [
       "<div>\n",
       "<style scoped>\n",
       "    .dataframe tbody tr th:only-of-type {\n",
       "        vertical-align: middle;\n",
       "    }\n",
       "\n",
       "    .dataframe tbody tr th {\n",
       "        vertical-align: top;\n",
       "    }\n",
       "\n",
       "    .dataframe thead th {\n",
       "        text-align: right;\n",
       "    }\n",
       "</style>\n",
       "<table border=\"1\" class=\"dataframe\">\n",
       "  <thead>\n",
       "    <tr style=\"text-align: right;\">\n",
       "      <th></th>\n",
       "      <th>sexe</th>\n",
       "      <th>age</th>\n",
       "      <th>adresse</th>\n",
       "      <th>code_postal</th>\n",
       "      <th>date_naissance</th>\n",
       "      <th>maladies_cardiaques</th>\n",
       "      <th>diabete</th>\n",
       "      <th>cancers</th>\n",
       "      <th>maternite</th>\n",
       "    </tr>\n",
       "  </thead>\n",
       "  <tbody>\n",
       "    <tr>\n",
       "      <th>0</th>\n",
       "      <td>1</td>\n",
       "      <td>44</td>\n",
       "      <td>300 Cours Emile Zola 69100 Villeurbanne</td>\n",
       "      <td>69100</td>\n",
       "      <td>1977-01-12</td>\n",
       "      <td>0</td>\n",
       "      <td>0</td>\n",
       "      <td>0</td>\n",
       "      <td>0</td>\n",
       "    </tr>\n",
       "    <tr>\n",
       "      <th>1</th>\n",
       "      <td>1</td>\n",
       "      <td>50</td>\n",
       "      <td>7 Rue Philippe de Lassalle 69004 Lyon 4e Arron...</td>\n",
       "      <td>69004</td>\n",
       "      <td>1970-10-15</td>\n",
       "      <td>0</td>\n",
       "      <td>1</td>\n",
       "      <td>0</td>\n",
       "      <td>0</td>\n",
       "    </tr>\n",
       "    <tr>\n",
       "      <th>2</th>\n",
       "      <td>2</td>\n",
       "      <td>55</td>\n",
       "      <td>15 Rue de Normandie 69330 Meyzieu</td>\n",
       "      <td>69330</td>\n",
       "      <td>1966-05-11</td>\n",
       "      <td>0</td>\n",
       "      <td>0</td>\n",
       "      <td>0</td>\n",
       "      <td>0</td>\n",
       "    </tr>\n",
       "  </tbody>\n",
       "</table>\n",
       "</div>"
      ],
      "text/plain": [
       "   sexe  age                                            adresse  code_postal  \\\n",
       "0     1   44            300 Cours Emile Zola 69100 Villeurbanne        69100   \n",
       "1     1   50  7 Rue Philippe de Lassalle 69004 Lyon 4e Arron...        69004   \n",
       "2     2   55                  15 Rue de Normandie 69330 Meyzieu        69330   \n",
       "\n",
       "  date_naissance  maladies_cardiaques  diabete  cancers  maternite  \n",
       "0     1977-01-12                    0        0        0          0  \n",
       "1     1970-10-15                    0        1        0          0  \n",
       "2     1966-05-11                    0        0        0          0  "
      ]
     },
     "execution_count": 25,
     "metadata": {},
     "output_type": "execute_result"
    }
   ],
   "source": [
    "df_pseudo_unidentified"
   ]
  },
  {
   "cell_type": "markdown",
   "id": "3b9cf2db",
   "metadata": {},
   "source": [
    "3. Mettez en oeuvre vos idées. Pour rappel, dans le cadre de votre étude, il vous faut conserver au minimum sujet des patients:\n",
    "    * une idée de l'âge\n",
    "    * le genre\n",
    "    * une idée de la localisation géographique"
   ]
  },
  {
   "cell_type": "code",
   "execution_count": 26,
   "id": "f2f3462e",
   "metadata": {},
   "outputs": [],
   "source": [
    "df_sensitive_pseudo = pd.read_sql('select * from sensitive_data_pseudo', conn)"
   ]
  },
  {
   "cell_type": "code",
   "execution_count": 27,
   "id": "85c6c8f5",
   "metadata": {},
   "outputs": [],
   "source": [
    "s_age = df_sensitive_pseudo['age']\\\n",
    "        .replace('100 ou plus', '100')\\\n",
    "        .astype(int)\n",
    "df_sensitive_pseudo['age_cut'] = pd.cut(s_age, range(0, 110, 10))\n",
    "del df_sensitive_pseudo['date_naissance']\n",
    "del df_sensitive_pseudo['adresse']\n",
    "del df_sensitive_pseudo['age']"
   ]
  },
  {
   "cell_type": "code",
   "execution_count": 28,
   "id": "283f2404",
   "metadata": {},
   "outputs": [],
   "source": [
    "df_personal_data = pd.read_sql('select * from personal_data', conn)"
   ]
  },
  {
   "cell_type": "code",
   "execution_count": 29,
   "id": "1adb1ef3",
   "metadata": {},
   "outputs": [],
   "source": [
    "s_age = df_personal_data['age']\\\n",
    "        .replace('100 ou plus', '100')\\\n",
    "        .astype(int)\n",
    "df_personal_data['age_cut'] = pd.cut(s_age, range(0, 110, 10))"
   ]
  },
  {
   "cell_type": "code",
   "execution_count": 30,
   "id": "fbe4f8a9",
   "metadata": {},
   "outputs": [],
   "source": [
    "df_sensitive_pseudo_identifiable = df_sensitive_pseudo[~df_sensitive_pseudo.duplicated(['age_cut', 'code_postal', 'sexe'], keep=False)]"
   ]
  },
  {
   "cell_type": "markdown",
   "id": "05d44047",
   "metadata": {},
   "source": [
    "Nombre de patients réidentifiables (identifiés de manière unique dans les données de santé) à partir de l'age (discretisé) du code postal et du sexe:"
   ]
  },
  {
   "cell_type": "code",
   "execution_count": 31,
   "id": "ef7e4ecf",
   "metadata": {},
   "outputs": [
    {
     "data": {
      "text/plain": [
       "361"
      ]
     },
     "execution_count": 31,
     "metadata": {},
     "output_type": "execute_result"
    }
   ],
   "source": [
    "len(df_sensitive_pseudo_identifiable)"
   ]
  },
  {
   "cell_type": "code",
   "execution_count": 32,
   "id": "6d6888ea",
   "metadata": {},
   "outputs": [],
   "source": [
    "df_merge = pd.merge(df_sensitive_pseudo_identifiable,\n",
    "                    df_personal_data,\n",
    "                    on=('age_cut', 'code_postal', 'sexe'))"
   ]
  },
  {
   "cell_type": "markdown",
   "id": "76322868",
   "metadata": {},
   "source": [
    "Nombre de patients réidentifiés à partir de l'age (discretisé) du code postal et du sexe:"
   ]
  },
  {
   "cell_type": "code",
   "execution_count": 33,
   "id": "584314ba",
   "metadata": {},
   "outputs": [
    {
     "data": {
      "text/plain": [
       "9"
      ]
     },
     "execution_count": 33,
     "metadata": {},
     "output_type": "execute_result"
    }
   ],
   "source": [
    "len(df_merge) - df_merge.duplicated(['age_cut', 'code_postal', 'sexe'], keep=False).sum()"
   ]
  },
  {
   "cell_type": "code",
   "execution_count": 34,
   "id": "cb509e1e",
   "metadata": {},
   "outputs": [],
   "source": [
    "df_merge_identified = df_merge[~df_merge.duplicated(['age_cut', 'code_postal', 'sexe'], keep=False)]"
   ]
  },
  {
   "cell_type": "markdown",
   "id": "5d307680",
   "metadata": {},
   "source": [
    "## Anonymisation\n",
    "\n",
    "1. Déterminez le paramètre K associé à votre anonymisation\n",
    "2. 10-anonymisez ces données (manuellement ou pensez à un algorithme simple pour le faire)\n",
    "3. En vous servant des différentes limites de la K-anonymisation, tâchez de retrouver le plus d'informations possibles sur les patients du jeu de données K-anonymisé"
   ]
  },
  {
   "cell_type": "markdown",
   "id": "fc301596",
   "metadata": {},
   "source": [
    "### Soluce"
   ]
  },
  {
   "cell_type": "markdown",
   "id": "1dee4dce",
   "metadata": {},
   "source": [
    "1. Déterminez le paramètre K associé à votre anonymisation"
   ]
  },
  {
   "cell_type": "code",
   "execution_count": 35,
   "id": "3e6c6ebe",
   "metadata": {},
   "outputs": [
    {
     "data": {
      "text/plain": [
       "1"
      ]
     },
     "execution_count": 35,
     "metadata": {},
     "output_type": "execute_result"
    }
   ],
   "source": [
    "s = df_sensitive_pseudo.groupby(['sexe', 'code_postal', 'age_cut']).size()\n",
    "s[s>0].min()"
   ]
  },
  {
   "cell_type": "markdown",
   "id": "4a024d96",
   "metadata": {},
   "source": [
    "2. 10-anonymisez ces données (manuellement ou pensez à un algorithme simple pour le faire)"
   ]
  },
  {
   "cell_type": "code",
   "execution_count": 36,
   "id": "476ceada",
   "metadata": {},
   "outputs": [],
   "source": [
    "del df_sdata['nom']\n",
    "del df_sdata['prenom']\n",
    "del df_sdata['adresse']"
   ]
  },
  {
   "cell_type": "code",
   "execution_count": 37,
   "id": "a27a7f43",
   "metadata": {},
   "outputs": [],
   "source": [
    "df_sdata['code_postal'] = df_sdata['code_postal'].astype(int)\n",
    "df_sdata['age'] = df_sdata['age'].astype(int)"
   ]
  },
  {
   "cell_type": "code",
   "execution_count": 143,
   "id": "306ecd8c",
   "metadata": {},
   "outputs": [],
   "source": [
    "feature_columns = ['age', 'code_postal', 'sexe']\n",
    "categorical = ['sexe']\n",
    "sensitive_columns = ['maladies_cardiaques', 'diabete', 'cancers', 'maternite']\n",
    "\n",
    "\n",
    "\n",
    "anonymizer = MondrianAnonymizer(is_valid_func=is_k_anonymous, k=5)\n",
    "df_k_anonymised = anonymizer.anonymize(df_sdata, feature_columns, categorical, sensitive_columns)"
   ]
  },
  {
   "cell_type": "code",
   "execution_count": 144,
   "id": "b81f41af",
   "metadata": {},
   "outputs": [
    {
     "data": {
      "text/plain": [
       "size    5\n",
       "dtype: int64"
      ]
     },
     "execution_count": 144,
     "metadata": {},
     "output_type": "execute_result"
    }
   ],
   "source": [
    "df_k_anonymised.groupby(['sexe', 'code_postal', 'age']).size().to_frame().rename(columns={0: 'size'}).min()"
   ]
  },
  {
   "cell_type": "markdown",
   "id": "8216f12f",
   "metadata": {},
   "source": [
    "3. En vous servant des différentes limites de la K-anonymisation, tâchez de retrouver le plus d'informations possibles sur les patients du jeu de données K-anonymisé"
   ]
  },
  {
   "cell_type": "code",
   "execution_count": 145,
   "id": "ab4866b4",
   "metadata": {},
   "outputs": [
    {
     "data": {
      "text/plain": [
       "133    69001-69003\n",
       "47     69001-69004\n",
       "40     69001-69005\n",
       "66     69001-69007\n",
       "85     69002-69005\n",
       "          ...     \n",
       "36     69780-69790\n",
       "136    69800-69850\n",
       "118    69800-69890\n",
       "10     69800-69960\n",
       "3      69800-69970\n",
       "Name: code_postal, Length: 68, dtype: object"
      ]
     },
     "execution_count": 145,
     "metadata": {},
     "output_type": "execute_result"
    }
   ],
   "source": [
    "df_k_anonymised.code_postal.drop_duplicates().astype(str).sort_values()"
   ]
  },
  {
   "cell_type": "code",
   "execution_count": 146,
   "id": "5296ab1f",
   "metadata": {
    "scrolled": false
   },
   "outputs": [
    {
     "data": {
      "text/plain": [
       "<AxesSubplot:ylabel='sexe-code_postal-age'>"
      ]
     },
     "execution_count": 146,
     "metadata": {},
     "output_type": "execute_result"
    },
    {
     "data": {
      "image/png": "[encoded data removed]",
      "text/plain": [
       "<Figure size 720x720 with 2 Axes>"
      ]
     },
     "metadata": {},
     "output_type": "display_data"
    }
   ],
   "source": [
    "df_hm = df_k_anonymised.groupby(['sexe', 'code_postal', 'age'])[sensitive_columns].mean()\n",
    "fig, ax = plt.subplots(figsize=(10, 10))\n",
    "sns.heatmap(df_hm[(df_hm >= 0.7).any(axis=1)], ax=ax, annot=True)"
   ]
  },
  {
   "cell_type": "code",
   "execution_count": 151,
   "id": "4f2da4eb",
   "metadata": {},
   "outputs": [],
   "source": [
    "df_sensi_h = df_sdata.query('sexe == 1')\n",
    "df_k_anonymised_h = df_k_anonymised.query('sexe == \"1\"')\n",
    "df_sensi_f = df_sdata.query('sexe == 2')\n",
    "df_k_anonymised_f = df_k_anonymised.query('sexe == \"2\"')\n",
    "df_sensi_hf = df_sdata.query('sexe == \"1,2\"')\n",
    "df_k_anonymised_hf = df_k_anonymised.query('sexe == \"1,2\"')\n"
   ]
  },
  {
   "cell_type": "code",
   "execution_count": 152,
   "id": "9530ad62",
   "metadata": {},
   "outputs": [
    {
     "data": {
      "text/plain": [
       "1077"
      ]
     },
     "execution_count": 152,
     "metadata": {},
     "output_type": "execute_result"
    }
   ],
   "source": [
    "len(df_sdata)"
   ]
  },
  {
   "cell_type": "code",
   "execution_count": 153,
   "id": "cf0c6571",
   "metadata": {},
   "outputs": [
    {
     "data": {
      "text/plain": [
       "59"
      ]
     },
     "execution_count": 153,
     "metadata": {},
     "output_type": "execute_result"
    }
   ],
   "source": [
    "len(df_k_anonymised_f)"
   ]
  },
  {
   "cell_type": "code",
   "execution_count": 154,
   "id": "d9b8c706",
   "metadata": {},
   "outputs": [],
   "source": [
    "def plot_mondrian(df, df_k_anonym):\n",
    "    fig, ax = plt.subplots(figsize=(20, 10))\n",
    "    df_plot = df\\\n",
    "                .groupby(['age', 'code_postal'])\\\n",
    "                .size()\\\n",
    "                .to_frame()\\\n",
    "                .reset_index()\\\n",
    "                .rename(columns={0: 'n_patients'})\n",
    "\n",
    "    sc = ax.scatter(x=df_plot.age, y=df_plot.code_postal, s=15, c=df_plot.n_patients, cmap='hot')\n",
    "\n",
    "    for (age, code_postal), dfx in df_k_anonym.groupby(['age', 'code_postal']):\n",
    "        if '-' in str(age):\n",
    "            age_min, age_max = map(int, age.split('-'))\n",
    "        else:\n",
    "            age = int(age)\n",
    "            age_min, age_max = age, age\n",
    "\n",
    "        age_min -= 0.5\n",
    "        age_max += 0.5\n",
    "\n",
    "        if '-' in str(code_postal):\n",
    "            code_postal_min, code_postal_max = map(lambda x: int(x), code_postal.split('-'))\n",
    "            code_postal_jitter = .5\n",
    "        else:\n",
    "            code_postal = int(code_postal)\n",
    "            code_postal_min, code_postal_max  = code_postal, code_postal\n",
    "            code_postal_jitter = .01 * (code_postal - 69000)\n",
    "        \n",
    "        code_postal_min -= code_postal_jitter\n",
    "        code_postal_max += code_postal_jitter\n",
    "\n",
    "        rect = ax.add_patch(\n",
    "        patches.Rectangle(\n",
    "            (age_min, code_postal_min),\n",
    "            age_max - age_min,\n",
    "            code_postal_max - code_postal_min,\n",
    "            facecolor = 'red',\n",
    "            edgecolor='red',\n",
    "            fill=True,\n",
    "            alpha=0.2\n",
    "         ) )\n",
    "\n",
    "    # ax.set_yscale('log')\n",
    "    fig.colorbar(sc, ax=ax)"
   ]
  },
  {
   "cell_type": "code",
   "execution_count": 155,
   "id": "b12d5f84",
   "metadata": {},
   "outputs": [
    {
     "data": {
      "image/png": "[encoded data removed]",
      "text/plain": [
       "<Figure size 1440x720 with 2 Axes>"
      ]
     },
     "metadata": {},
     "output_type": "display_data"
    }
   ],
   "source": [
    "plot_mondrian(df_sensi_h, df_k_anonymised_h)"
   ]
  },
  {
   "cell_type": "code",
   "execution_count": 156,
   "id": "14f555f8",
   "metadata": {},
   "outputs": [
    {
     "data": {
      "image/png": "[encoded data removed]",
      "text/plain": [
       "<Figure size 1440x720 with 2 Axes>"
      ]
     },
     "metadata": {},
     "output_type": "display_data"
    }
   ],
   "source": [
    "plot_mondrian(df_sensi_f, df_k_anonymised_f)"
   ]
  },
  {
   "cell_type": "code",
   "execution_count": 157,
   "id": "94fb1f97",
   "metadata": {},
   "outputs": [
    {
     "data": {
      "image/png": "[encoded data removed]",
      "text/plain": [
       "<Figure size 1440x720 with 2 Axes>"
      ]
     },
     "metadata": {},
     "output_type": "display_data"
    }
   ],
   "source": [
    "plot_mondrian(df_sensi_hf, df_k_anonymised_hf)"
   ]
  }
 ],
 "metadata": {
  "kernelspec": {
   "display_name": "Python 3",
   "language": "python",
   "name": "python3"
  },
  "language_info": {
   "codemirror_mode": {
    "name": "ipython",
    "version": 3
   },
   "file_extension": ".py",
   "mimetype": "text/x-python",
   "name": "python",
   "nbconvert_exporter": "python",
   "pygments_lexer": "ipython3",
   "version": "3.8.2"
  }
 },
 "nbformat": 4,
 "nbformat_minor": 5
}
