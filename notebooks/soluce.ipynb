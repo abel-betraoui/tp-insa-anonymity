{
 "cells": [
  {
   "cell_type": "markdown",
   "id": "205bbf54",
   "metadata": {},
   "source": [
    "## Etape 1: récupérez les données et commencez à les regarder \n",
    "\n",
    "1. Créez une base sqlite localement\n",
    "2. Créez deux tables et uploadez les données\n",
    "3. Récupérez les tables sous forme de dataframe python et faites une exploration rapide de ces données.\n",
    "4. Quels sont selon vous dans les données patients les données personnelles (identificateurs & quasi-identificateurs) et les données sensibles ?\n",
    "5. De combien de patients retrouvez vous le nom en faisant une jointure entre ces deux tables ?"
   ]
  },
  {
   "cell_type": "markdown",
   "id": "f6dc5054",
   "metadata": {},
   "source": [
    "### Soluce"
   ]
  },
  {
   "cell_type": "code",
   "execution_count": null,
   "id": "84c40f55",
   "metadata": {},
   "outputs": [],
   "source": [
    "%load_ext autoreload\n",
    "%autoreload 2\n",
    "\n",
    "from pathlib import Path\n",
    "import sqlite3\n",
    "from datetime import date\n",
    "from dateutil.relativedelta import relativedelta\n",
    "\n",
    "import numpy as np\n",
    "import pandas as pd\n",
    "\n",
    "import matplotlib.pyplot as plt\n",
    "import seaborn as sns\n",
    "import matplotlib.patches as patches\n",
    "\n",
    "from anonymity.mondrian import MondrianAnonymizer, is_k_anonymous\n",
    "\n",
    "sns.set_style(\"whitegrid\")"
   ]
  },
  {
   "cell_type": "markdown",
   "id": "fe2fbc28",
   "metadata": {},
   "source": [
    "1. Créez une base sqlite localement"
   ]
  },
  {
   "cell_type": "code",
   "execution_count": null,
   "id": "2cd05a2c",
   "metadata": {},
   "outputs": [],
   "source": [
    "db_filepath = Path('tp_anonymisation.db')\n",
    "db_filepath.unlink(missing_ok=True) # rm db if exists"
   ]
  },
  {
   "cell_type": "code",
   "execution_count": null,
   "id": "73cd725b",
   "metadata": {},
   "outputs": [],
   "source": [
    "conn = sqlite3.connect(db_filepath)\n",
    "c = conn.cursor()"
   ]
  },
  {
   "cell_type": "markdown",
   "id": "694c79b5",
   "metadata": {},
   "source": [
    "2. Créez deux tables et uploadez les données"
   ]
  },
  {
   "cell_type": "markdown",
   "id": "40bbd875",
   "metadata": {},
   "source": [
    "Avec sqlite3\n",
    "\n",
    "```\n",
    ".separator ;\n",
    ".import personal_data.csv personal_data\n",
    ".import sensitive_data.csv sensitive_data\n",
    ".mode list\n",
    "```"
   ]
  },
  {
   "cell_type": "markdown",
   "id": "99d648f2",
   "metadata": {},
   "source": [
    "Avec python / pandas"
   ]
  },
  {
   "cell_type": "code",
   "execution_count": null,
   "id": "c388b4e5",
   "metadata": {},
   "outputs": [],
   "source": [
    "items_to_feed = [('personal_data.csv', 'personal_data'),\n",
    "                 ('sensitive_data.csv', 'sensitive_data')]\n",
    "\n",
    "for filepath, table_name in items_to_feed:\n",
    "    pd.read_csv(filepath, sep=';')\\\n",
    "        .to_sql(table_name, conn, if_exists='replace', index=False)"
   ]
  },
  {
   "cell_type": "markdown",
   "id": "77c4e87d",
   "metadata": {},
   "source": [
    "Récupérez les tables sous forme de dataframe python et faites une exploration rapide de ces données."
   ]
  },
  {
   "cell_type": "code",
   "execution_count": null,
   "id": "c4ff998f",
   "metadata": {},
   "outputs": [],
   "source": [
    "q = '''\n",
    "select *\n",
    "from sensitive_data\n",
    "'''\n",
    "df_sdata = pd.read_sql(q, conn)"
   ]
  },
  {
   "cell_type": "markdown",
   "id": "9338aa0c",
   "metadata": {},
   "source": [
    "Nombre de patients dans notre fichier de données:"
   ]
  },
  {
   "cell_type": "code",
   "execution_count": null,
   "id": "868063db",
   "metadata": {},
   "outputs": [],
   "source": [
    "len(df_sdata)"
   ]
  },
  {
   "cell_type": "code",
   "execution_count": null,
   "id": "b66b315c",
   "metadata": {},
   "outputs": [],
   "source": [
    "df_sdata.head()"
   ]
  },
  {
   "cell_type": "code",
   "execution_count": null,
   "id": "d747cd14",
   "metadata": {},
   "outputs": [],
   "source": [
    "fig, ax = plt.subplots(3, 2, figsize=(10, 10))\n",
    "\n",
    "# age distribution\n",
    "ax00 = ax[0, 0]\n",
    "df_sdata['age'].hist(ax=ax00)\n",
    "ax00.set_xlabel('age')\n",
    "\n",
    "\n",
    "# sex \"ratio\"\n",
    "ax01 = ax[0, 1]\n",
    "df_sdata['sexe'].value_counts().plot(ax=ax01, kind='bar')\n",
    "\n",
    "# repartition selon le département\n",
    "ax10 = ax[1, 0]\n",
    "df_sdata['code_postal'].apply(lambda x: str(x)[:2]).value_counts().plot(ax=ax10, kind='bar')\n",
    "\n",
    "# tension arterielle\n",
    "ax11 = ax[1, 1]\n",
    "df_sdata['tension_arterielle'].value_counts().plot(ax=ax11, kind='barh')\n",
    "\n",
    "# tension arterielle\n",
    "ax21 = ax[2, 0]\n",
    "df_sdata['consommation_alcool'].value_counts().plot(ax=ax21, kind='barh')\n",
    "\n",
    "# tension arterielle\n",
    "ax22 = ax[2, 1]\n",
    "df_sdata['activite_physique'].value_counts().plot(ax=ax22, kind='barh')\n",
    "\n",
    "fig.tight_layout()"
   ]
  },
  {
   "cell_type": "code",
   "execution_count": null,
   "id": "57769347",
   "metadata": {},
   "outputs": [],
   "source": [
    "q = '''\n",
    "select *\n",
    "from personal_data\n",
    "'''\n",
    "df_pdata = pd.read_sql(q, conn)"
   ]
  },
  {
   "cell_type": "markdown",
   "id": "da9c67eb",
   "metadata": {},
   "source": [
    "Nombre de personnes dans notre fichier de données marketting:"
   ]
  },
  {
   "cell_type": "code",
   "execution_count": null,
   "id": "23565424",
   "metadata": {},
   "outputs": [],
   "source": [
    "len(df_pdata)"
   ]
  },
  {
   "cell_type": "code",
   "execution_count": null,
   "id": "22c82e39",
   "metadata": {},
   "outputs": [],
   "source": [
    "df_pdata.head()"
   ]
  },
  {
   "cell_type": "code",
   "execution_count": null,
   "id": "98c2ee5a",
   "metadata": {},
   "outputs": [],
   "source": [
    "fig, ax = plt.subplots(2, 2, figsize=(10, 10))\n",
    "\n",
    "# age distribution\n",
    "ax00 = ax[0, 0]\n",
    "df_pdata['age'].hist(ax=ax00)\n",
    "ax00.set_xlabel('age')\n",
    "\n",
    "# sex \"ratio\"\n",
    "ax01 = ax[0, 1]\n",
    "df_pdata['sexe'].value_counts().plot(ax=ax01, kind='bar')\n",
    "\n",
    "# repartition according to department\n",
    "ax10 = ax[1, 0]\n",
    "df_pdata['code_postal'].apply(lambda x: str(x)[:2]).value_counts().plot(ax=ax10, kind='bar')\n",
    "\n",
    "fig.tight_layout()"
   ]
  },
  {
   "cell_type": "markdown",
   "id": "760ec524",
   "metadata": {},
   "source": [
    "4. Quels sont selon vous dans les données patients les données personnelles (identificateurs & quasi-identificateurs) et les données sensibles ?\n",
    "5. De combien de patients retrouvez vous le nom en faisant une jointure entre ces deux tables ?"
   ]
  },
  {
   "cell_type": "code",
   "execution_count": null,
   "id": "cc51a73d",
   "metadata": {},
   "outputs": [],
   "source": [
    "q = '''\n",
    "select sdata.*\n",
    "from sensitive_data as sdata\n",
    "inner join personal_data as pdata\n",
    "on pdata.nom = sdata.nom and pdata.prenom = sdata.prenom and pdata.adresse = sdata.adresse and pdata.age=sdata.age and pdata.sexe=sdata.sexe;\n",
    "'''\n",
    "df_join = pd.read_sql(q, conn)"
   ]
  },
  {
   "cell_type": "markdown",
   "id": "49c14e30",
   "metadata": {},
   "source": [
    "Nombre de patients de notre fichier de données qui correspondent (nom, prenom, adresse) à des personnes issues du fichier de données marketting:"
   ]
  },
  {
   "cell_type": "code",
   "execution_count": null,
   "id": "69455d90",
   "metadata": {},
   "outputs": [],
   "source": [
    "len(df_join)"
   ]
  },
  {
   "cell_type": "code",
   "execution_count": null,
   "id": "f9f7f9d3",
   "metadata": {},
   "outputs": [],
   "source": [
    "df_join.head()"
   ]
  },
  {
   "cell_type": "code",
   "execution_count": null,
   "id": "676c23fa",
   "metadata": {},
   "outputs": [],
   "source": [
    "# attention aux homonymes\n",
    "q = '''\n",
    "select sdata.*\n",
    "from sensitive_data as sdata\n",
    "inner join personal_data as pdata\n",
    "on pdata.nom = sdata.nom and pdata.prenom = sdata.prenom and pdata.adresse = sdata.adresse\n",
    "group by pdata.nom, pdata.prenom, pdata.adresse\n",
    "having count(*) > 1\n",
    "'''\n",
    "pd.read_sql(q, conn)"
   ]
  },
  {
   "cell_type": "markdown",
   "id": "67980f75",
   "metadata": {},
   "source": [
    "Nombre de patients de notre fichier de données qui correspondent (nom, prenom, adresse) à des personnes issues du fichier de données marketting (sans ambiguité):"
   ]
  },
  {
   "cell_type": "code",
   "execution_count": null,
   "id": "296344ed",
   "metadata": {},
   "outputs": [],
   "source": [
    "len(df_join)"
   ]
  },
  {
   "cell_type": "markdown",
   "id": "83bc3dce",
   "metadata": {},
   "source": [
    "## Etape 2: Pseudonymisez vos données puis attaquez les\n",
    "\n",
    "1. Supprimer les identificateurs et les remplacer par une valeur unique par patient.\n",
    "2. Chargez les données pseudonymisées. Combien d'individus vous arrivez à identifier de manière unique et pour combien retrouvez vous le nom et le prénom ?\n",
    "    * Quelles sont selon vous les limites de la pseudonymisation ?\n",
    "    * Que feriez vous pour améliorer cette approche ?\n",
    "3. Mettez en oeuvre vos idées. Pour rappel, dans le cadre de votre étude, il vous faut conserver au minimum sujet des patients:\n",
    "    * une idée de l'âge\n",
    "    * le genre\n",
    "    * une idée de la localisation géographique"
   ]
  },
  {
   "cell_type": "markdown",
   "id": "a306718b",
   "metadata": {},
   "source": [
    "### Soluce"
   ]
  },
  {
   "cell_type": "markdown",
   "id": "5d0ef5f0",
   "metadata": {},
   "source": [
    "1. Supprimer les identificateurs et les remplacer par une valeur unique par patient."
   ]
  },
  {
   "cell_type": "code",
   "execution_count": null,
   "id": "dcee122d",
   "metadata": {},
   "outputs": [],
   "source": [
    "del df_join['nom']\n",
    "del df_join['prenom']"
   ]
  },
  {
   "cell_type": "markdown",
   "id": "c651496a",
   "metadata": {},
   "source": [
    "2. Chargez les données pseudonymisées. Combien d'individus vous arrivez à identifier de manière unique et pour combien retrouvez vous le nom et le prénom ?\n",
    "    * Quelles sont selon vous les limites de la pseudonymisation ?\n",
    "    * Que feriez vous pour améliorer cette approche ?"
   ]
  },
  {
   "cell_type": "code",
   "execution_count": null,
   "id": "5163d514",
   "metadata": {},
   "outputs": [],
   "source": [
    "q = '''\n",
    "create table  IF NOT EXISTS sensitive_data_pseudo\n",
    "as \n",
    "select sexe,\n",
    "       age,\n",
    "       adresse,\n",
    "       code_postal,\n",
    "       date_naissance,\n",
    "       activite_physique,\n",
    "       consommation_alcool,\n",
    "       tension_arterielle\n",
    "       from sensitive_data \n",
    "'''\n",
    "c.execute(q)\n",
    "conn.commit()"
   ]
  },
  {
   "cell_type": "code",
   "execution_count": null,
   "id": "250e94a2",
   "metadata": {
    "scrolled": true
   },
   "outputs": [],
   "source": [
    "q = '''\n",
    "select *\n",
    "from sensitive_data_pseudo \n",
    "group by age, sexe, adresse\n",
    "having count(*) == 1\n",
    "'''\n",
    "\n",
    "df_sdata_pseudo = pd.read_sql(q, conn)"
   ]
  },
  {
   "cell_type": "code",
   "execution_count": null,
   "id": "fdb7c4e0",
   "metadata": {},
   "outputs": [],
   "source": [
    "df_sdata_pseudo"
   ]
  },
  {
   "cell_type": "code",
   "execution_count": null,
   "id": "45da9125",
   "metadata": {},
   "outputs": [],
   "source": [
    "q = '''\n",
    "with all_matches as (\n",
    "select pdata.nom,\n",
    "       pdata.prenom,\n",
    "       sdata.*\n",
    "from sensitive_data_pseudo as sdata\n",
    "inner join personal_data as pdata\n",
    "on pdata.age = sdata.age and pdata.adresse = sdata.adresse and pdata.sexe = sdata.sexe\n",
    ")\n",
    "select *\n",
    "from all_matches\n",
    "group by age, adresse, sexe\n",
    "having count(*) == 1\n",
    "'''\n",
    "df_pseudo_identified = pd.read_sql(q, conn)"
   ]
  },
  {
   "cell_type": "markdown",
   "id": "08719f83",
   "metadata": {},
   "source": [
    "Nombre de patients de notre fichier de données pseudonymisé qui correspondent (nom, prenom, adresse) à des personnes issues du fichier de données marketting (sans ambiguité):"
   ]
  },
  {
   "cell_type": "code",
   "execution_count": null,
   "id": "97d4f09c",
   "metadata": {},
   "outputs": [],
   "source": [
    "len(df_pseudo_identified)"
   ]
  },
  {
   "cell_type": "code",
   "execution_count": null,
   "id": "d738056c",
   "metadata": {},
   "outputs": [],
   "source": [
    "q = '''\n",
    "with all_matches as (\n",
    "select pdata.nom,\n",
    "       pdata.prenom,\n",
    "       sdata.*\n",
    "from sensitive_data_pseudo as sdata\n",
    "inner join personal_data as pdata\n",
    "on pdata.age = sdata.age and pdata.adresse = sdata.adresse and pdata.sexe = sdata.sexe\n",
    "),\n",
    "\n",
    "ambiguous as (\n",
    "select age, adresse, sexe\n",
    "from all_matches\n",
    "group by age, adresse, sexe\n",
    "having count(*) > 1\n",
    ")\n",
    "select all_matches.*\n",
    "from all_matches\n",
    "join ambiguous\n",
    "on all_matches.age = ambiguous.age and all_matches.sexe = ambiguous.sexe and all_matches.adresse = ambiguous.adresse\n",
    "'''\n",
    "df_pseudo_unidentified = pd.read_sql(q, conn)"
   ]
  },
  {
   "cell_type": "code",
   "execution_count": null,
   "id": "7f19b8b8",
   "metadata": {},
   "outputs": [],
   "source": [
    "df_pdata.groupby(['adresse', 'age', 'sexe']).size().value_counts()"
   ]
  },
  {
   "cell_type": "markdown",
   "id": "3b9cf2db",
   "metadata": {},
   "source": [
    "3. Mettez en oeuvre vos idées. Pour rappel, dans le cadre de votre étude, il vous faut conserver au minimum sujet des patients:\n",
    "    * une idée de l'âge\n",
    "    * le genre\n",
    "    * une idée de la localisation géographique"
   ]
  },
  {
   "cell_type": "code",
   "execution_count": null,
   "id": "f2f3462e",
   "metadata": {},
   "outputs": [],
   "source": [
    "df_sensitive_pseudo = pd.read_sql('select * from sensitive_data_pseudo', conn)"
   ]
  },
  {
   "cell_type": "code",
   "execution_count": null,
   "id": "85c6c8f5",
   "metadata": {},
   "outputs": [],
   "source": [
    "s_age = df_sensitive_pseudo['age']\\\n",
    "        .replace('100 ou plus', '100')\\\n",
    "        .astype(int)\n",
    "df_sensitive_pseudo['age_cut'] = pd.cut(s_age, range(0, 110, 10))\n",
    "del df_sensitive_pseudo['date_naissance']\n",
    "del df_sensitive_pseudo['adresse']\n",
    "del df_sensitive_pseudo['age']"
   ]
  },
  {
   "cell_type": "code",
   "execution_count": null,
   "id": "283f2404",
   "metadata": {},
   "outputs": [],
   "source": [
    "df_personal_data = pd.read_sql('select * from personal_data', conn)"
   ]
  },
  {
   "cell_type": "code",
   "execution_count": null,
   "id": "1adb1ef3",
   "metadata": {},
   "outputs": [],
   "source": [
    "s_age = df_personal_data['age']\\\n",
    "        .astype(int)\n",
    "df_personal_data['age_cut'] = pd.cut(s_age, range(0, 110, 10))"
   ]
  },
  {
   "cell_type": "code",
   "execution_count": null,
   "id": "fbe4f8a9",
   "metadata": {},
   "outputs": [],
   "source": [
    "df_sensitive_pseudo_identifiable = df_sensitive_pseudo[~df_sensitive_pseudo.duplicated(['age_cut', 'code_postal', 'sexe'], keep=False)]"
   ]
  },
  {
   "cell_type": "markdown",
   "id": "05d44047",
   "metadata": {},
   "source": [
    "Nombre de patients réidentifiables (identifiés de manière unique dans les données de santé) à partir de l'age (discretisé) du code postal et du sexe:"
   ]
  },
  {
   "cell_type": "code",
   "execution_count": null,
   "id": "ef7e4ecf",
   "metadata": {},
   "outputs": [],
   "source": [
    "len(df_sensitive_pseudo_identifiable)"
   ]
  },
  {
   "cell_type": "code",
   "execution_count": null,
   "id": "6d6888ea",
   "metadata": {},
   "outputs": [],
   "source": [
    "df_merge = pd.merge(df_sensitive_pseudo_identifiable,\n",
    "                    df_personal_data,\n",
    "                    on=('age_cut', 'code_postal', 'sexe'))"
   ]
  },
  {
   "cell_type": "markdown",
   "id": "76322868",
   "metadata": {},
   "source": [
    "Nombre de patients réidentifiés à partir de l'age (discretisé) du code postal et du sexe:"
   ]
  },
  {
   "cell_type": "code",
   "execution_count": null,
   "id": "584314ba",
   "metadata": {},
   "outputs": [],
   "source": [
    "len(df_merge) - df_merge.duplicated(['age_cut', 'code_postal', 'sexe'], keep=False).sum()"
   ]
  },
  {
   "cell_type": "code",
   "execution_count": null,
   "id": "cb509e1e",
   "metadata": {},
   "outputs": [],
   "source": [
    "df_merge_identified = df_merge[~df_merge.duplicated(['age_cut', 'code_postal', 'sexe'], keep=False)]"
   ]
  },
  {
   "cell_type": "code",
   "execution_count": null,
   "id": "183973be",
   "metadata": {},
   "outputs": [],
   "source": [
    "df_merge_identified"
   ]
  },
  {
   "cell_type": "markdown",
   "id": "5d307680",
   "metadata": {},
   "source": [
    "## Anonymisation\n",
    "\n",
    "1. Déterminez le paramètre K associé à votre anonymisation\n",
    "2. 10-anonymisez ces données (manuellement ou pensez à un algorithme simple pour le faire)\n",
    "3. En vous servant des différentes limites de la K-anonymisation, tâchez de retrouver le plus d'informations possibles sur les patients du jeu de données K-anonymisé"
   ]
  },
  {
   "cell_type": "markdown",
   "id": "fc301596",
   "metadata": {},
   "source": [
    "### Soluce"
   ]
  },
  {
   "cell_type": "markdown",
   "id": "1dee4dce",
   "metadata": {},
   "source": [
    "1. Déterminez le paramètre K associé à votre anonymisation"
   ]
  },
  {
   "cell_type": "code",
   "execution_count": null,
   "id": "3e6c6ebe",
   "metadata": {},
   "outputs": [],
   "source": [
    "s = df_sensitive_pseudo.groupby(['sexe', 'code_postal', 'age_cut']).size()\n",
    "s[s>0].min()"
   ]
  },
  {
   "cell_type": "markdown",
   "id": "4a024d96",
   "metadata": {},
   "source": [
    "2. 4-anonymisez ces données (manuellement ou pensez à un algorithme simple pour le faire)"
   ]
  },
  {
   "cell_type": "code",
   "execution_count": null,
   "id": "476ceada",
   "metadata": {},
   "outputs": [],
   "source": [
    "del df_sdata['nom']\n",
    "del df_sdata['prenom']\n",
    "del df_sdata['adresse']"
   ]
  },
  {
   "cell_type": "code",
   "execution_count": null,
   "id": "a27a7f43",
   "metadata": {},
   "outputs": [],
   "source": [
    "df_sdata['code_postal'] = df_sdata['code_postal'].astype(int)\n",
    "df_sdata['age'] = df_sdata['age'].astype(int)"
   ]
  },
  {
   "cell_type": "code",
   "execution_count": null,
   "id": "306ecd8c",
   "metadata": {},
   "outputs": [],
   "source": [
    "feature_columns = ['age', 'code_postal']\n",
    "categorical = []\n",
    "sensitive_columns = ['activite_physique', 'consommation_alcool', 'tension_arterielle']\n",
    "no_agg_features = ['sexe']\n",
    "\n",
    "anonymizer = MondrianAnonymizer(is_valid_func=is_k_anonymous, k=4)\n",
    "df_sdata_h = df_sdata.query('sexe == 1')\n",
    "df_sdata_f = df_sdata.query('sexe == 2')\n",
    "\n",
    "df_k_anonymised = anonymizer.anonymize(df_sdata, feature_columns, categorical, sensitive_columns, no_agg_features)\n",
    "df_k_anonymised_h = df_k_anonymised.query('sexe == 1')\n",
    "df_k_anonymised_f = df_k_anonymised.query('sexe == 2')"
   ]
  },
  {
   "cell_type": "code",
   "execution_count": null,
   "id": "b81f41af",
   "metadata": {},
   "outputs": [],
   "source": [
    "df_k_anonymised_h.groupby(['sexe', 'code_postal', 'age']).size().to_frame().rename(columns={0: 'size'}).min()"
   ]
  },
  {
   "cell_type": "code",
   "execution_count": null,
   "id": "62534bc0",
   "metadata": {},
   "outputs": [],
   "source": [
    "df_k_anonymised_f.groupby(['sexe', 'code_postal', 'age']).size().to_frame().rename(columns={0: 'size'}).min()"
   ]
  },
  {
   "cell_type": "markdown",
   "id": "8216f12f",
   "metadata": {},
   "source": [
    "3. En vous servant des différentes limites de la K-anonymisation, tâchez de retrouver le plus d'informations possibles sur les patients du jeu de données K-anonymisé"
   ]
  },
  {
   "cell_type": "code",
   "execution_count": null,
   "id": "2d9bcd68",
   "metadata": {},
   "outputs": [],
   "source": [
    "df_dummies = pd.get_dummies(df_k_anonymised[sensitive_columns])\n",
    "df_dummies.rename(columns={\"activite_physique\": \"activite_physique_suffisante\"}, inplace=True)\n",
    "df_dummies['activite_physique_insuffisante'] = 1 - df_dummies.activite_physique_suffisante\n",
    "\n",
    "sensitive_columns_dummies = df_dummies.columns\n",
    "df_hm = pd.concat(\n",
    "    [df_k_anonymised[['sexe', 'code_postal', 'age']],\n",
    "     df_dummies],\n",
    "     axis=1)"
   ]
  },
  {
   "cell_type": "code",
   "execution_count": null,
   "id": "5296ab1f",
   "metadata": {
    "scrolled": false
   },
   "outputs": [],
   "source": [
    "df_hm = df_hm.groupby(['sexe', 'code_postal', 'age'])[sensitive_columns_dummies].mean()\n",
    "fig, ax = plt.subplots(figsize=(20, 30))\n",
    "sns.heatmap(df_hm[(df_hm == 1).any(axis=1)], ax=ax, annot=True)"
   ]
  },
  {
   "cell_type": "code",
   "execution_count": null,
   "id": "d9b8c706",
   "metadata": {},
   "outputs": [],
   "source": [
    "def plot_mondrian(df, df_k_anonym):\n",
    "    fig, ax = plt.subplots(figsize=(20, 10))\n",
    "    df_plot = df\\\n",
    "                .groupby(['age', 'code_postal'])\\\n",
    "                .size()\\\n",
    "                .to_frame()\\\n",
    "                .reset_index()\\\n",
    "                .rename(columns={0: 'n_patients'})\n",
    "\n",
    "    sc = ax.scatter(x=df_plot.age, y=df_plot.code_postal, s=15, c=df_plot.n_patients, cmap='hot')\n",
    "\n",
    "    for (age, code_postal), dfx in df_k_anonym.groupby(['age', 'code_postal']):\n",
    "        if '-' in str(age):\n",
    "            age_min, age_max = map(int, age.split('-'))\n",
    "        else:\n",
    "            age = int(age)\n",
    "            age_min, age_max = age, age\n",
    "\n",
    "        age_min -= 0.5\n",
    "        age_max += 0.5\n",
    "\n",
    "        if '-' in str(code_postal):\n",
    "            code_postal_min, code_postal_max = map(lambda x: int(x), code_postal.split('-'))\n",
    "            code_postal_jitter = .5\n",
    "        else:\n",
    "            code_postal = int(code_postal)\n",
    "            code_postal_min, code_postal_max  = code_postal, code_postal\n",
    "            code_postal_jitter = .01 * (code_postal - 69000)\n",
    "        \n",
    "        code_postal_min -= code_postal_jitter\n",
    "        code_postal_max += code_postal_jitter\n",
    "\n",
    "        rect = ax.add_patch(\n",
    "        patches.Rectangle(\n",
    "            (age_min, code_postal_min),\n",
    "            age_max - age_min,\n",
    "            code_postal_max - code_postal_min,\n",
    "            facecolor = 'red',\n",
    "            edgecolor='red',\n",
    "            fill=True,\n",
    "            alpha=0.2\n",
    "         ) )\n",
    "\n",
    "    # ax.set_yscale('log')\n",
    "    fig.colorbar(sc, ax=ax)"
   ]
  },
  {
   "cell_type": "code",
   "execution_count": null,
   "id": "b12d5f84",
   "metadata": {},
   "outputs": [],
   "source": [
    "plot_mondrian(df_sdata_h, df_k_anonymised_h)"
   ]
  },
  {
   "cell_type": "code",
   "execution_count": null,
   "id": "14f555f8",
   "metadata": {},
   "outputs": [],
   "source": [
    "plot_mondrian(df_sdata_f, df_k_anonymised_f)"
   ]
  },
  {
   "cell_type": "code",
   "execution_count": null,
   "id": "3876e03b",
   "metadata": {},
   "outputs": [],
   "source": []
  }
 ],
 "metadata": {
  "kernelspec": {
   "display_name": "Python 3",
   "language": "python",
   "name": "python3"
  },
  "language_info": {
   "codemirror_mode": {
    "name": "ipython",
    "version": 3
   },
   "file_extension": ".py",
   "mimetype": "text/x-python",
   "name": "python",
   "nbconvert_exporter": "python",
   "pygments_lexer": "ipython3",
   "version": "3.8.2"
  }
 },
 "nbformat": 4,
 "nbformat_minor": 5
}
