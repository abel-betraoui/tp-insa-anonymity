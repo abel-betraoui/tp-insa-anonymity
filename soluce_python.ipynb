{
 "cells": [
  {
   "cell_type": "markdown",
   "id": "205bbf54",
   "metadata": {},
   "source": [
    "## Etape 1: récupérez les données et commencez à les regarder \n",
    "\n",
    "1. Créez une base sqlite localement\n",
    "2. Créez deux tables et uploadez les données\n",
    "3. Récupérez les tables sous forme de dataframe python et faites une exploration rapide de ces données.\n",
    "4. Quels sont selon vous dans les données patients les données personnelles (identificateurs & quasi-identificateurs) et les données sensibles ?\n",
    "5. De combien de patients retrouvez vous le nom en faisant une jointure entre ces deux tables ?"
   ]
  },
  {
   "cell_type": "markdown",
   "id": "f6dc5054",
   "metadata": {},
   "source": [
    "### Soluce"
   ]
  },
  {
   "cell_type": "code",
   "execution_count": null,
   "id": "84c40f55",
   "metadata": {},
   "outputs": [],
   "source": [
    "%load_ext autoreload\n",
    "%autoreload 2\n",
    "\n",
    "from pathlib import Path\n",
    "import sqlite3\n",
    "from datetime import date\n",
    "from dateutil.relativedelta import relativedelta\n",
    "\n",
    "import numpy as np\n",
    "import pandas as pd\n",
    "\n",
    "import pydp as dp  # by convention our package is to be imported as dp (for Differential Privacy!)\n",
    "from pydp.algorithms.laplacian import BoundedMean, Count\n",
    "\n",
    "import matplotlib.pyplot as plt\n",
    "import seaborn as sns\n",
    "import matplotlib.patches as patches\n",
    "\n",
    "\n",
    "\n",
    "from anonymity.mondrian import MondrianAnonymizer, is_k_anonymous\n",
    "from anonymity.plot import plot_mondrian\n",
    "\n",
    "sns.set_style(\"whitegrid\")"
   ]
  },
  {
   "cell_type": "markdown",
   "id": "fe2fbc28",
   "metadata": {},
   "source": [
    "1. Créez une base sqlite localement"
   ]
  },
  {
   "cell_type": "code",
   "execution_count": null,
   "id": "2cd05a2c",
   "metadata": {},
   "outputs": [],
   "source": [
    "db_filepath = Path('tp_anonymisation.db')\n",
    "db_filepath.unlink(missing_ok=True) # rm db if exists"
   ]
  },
  {
   "cell_type": "code",
   "execution_count": null,
   "id": "73cd725b",
   "metadata": {},
   "outputs": [],
   "source": [
    "conn = sqlite3.connect(db_filepath)"
   ]
  },
  {
   "cell_type": "markdown",
   "id": "694c79b5",
   "metadata": {},
   "source": [
    "2. Créez deux tables et uploadez les données"
   ]
  },
  {
   "cell_type": "code",
   "execution_count": null,
   "id": "c388b4e5",
   "metadata": {},
   "outputs": [],
   "source": [
    "data_dir = Path('../data/')\n",
    "items_to_feed = [(data_dir / 'personal_data.csv', 'personal_data'),\n",
    "                 (data_dir / 'sensitive_data.csv', 'sensitive_data')]\n",
    "\n",
    "for filepath, table_name in items_to_feed:\n",
    "    pd.read_csv(filepath, sep=';')\\\n",
    "        .to_sql(table_name, conn, if_exists='replace', index=False)"
   ]
  },
  {
   "cell_type": "markdown",
   "id": "77c4e87d",
   "metadata": {},
   "source": [
    "Récupérez les tables sous forme de dataframe python et faites une exploration rapide de ces données."
   ]
  },
  {
   "cell_type": "code",
   "execution_count": null,
   "id": "c4ff998f",
   "metadata": {},
   "outputs": [],
   "source": [
    "q = '''\n",
    "select *\n",
    "from sensitive_data\n",
    "'''\n",
    "df_patients = pd.read_sql(q, conn)"
   ]
  },
  {
   "cell_type": "markdown",
   "id": "9338aa0c",
   "metadata": {},
   "source": [
    "Nombre de patients dans notre fichier de données:"
   ]
  },
  {
   "cell_type": "code",
   "execution_count": null,
   "id": "868063db",
   "metadata": {},
   "outputs": [],
   "source": [
    "len(df_patients)"
   ]
  },
  {
   "cell_type": "code",
   "execution_count": null,
   "id": "b66b315c",
   "metadata": {},
   "outputs": [],
   "source": [
    "df_patients.head()"
   ]
  },
  {
   "cell_type": "code",
   "execution_count": null,
   "id": "d747cd14",
   "metadata": {},
   "outputs": [],
   "source": [
    "fig, ax = plt.subplots(3, 2, figsize=(10, 12))\n",
    "\n",
    "# age distribution\n",
    "ax00 = ax[0, 0]\n",
    "df_patients['age'].hist(ax=ax00)\n",
    "ax00.set_xlabel('age')\n",
    "\n",
    "# sex \"ratio\"\n",
    "ax01 = ax[0, 1]\n",
    "df_patients['sexe'].value_counts().plot(ax=ax01, kind='bar')\n",
    "\n",
    "# repartition selon le département\n",
    "ax10 = ax[1, 0]\n",
    "df_patients['code_postal'].apply(lambda x: str(x)[:2]).value_counts().plot(ax=ax10, kind='bar')\n",
    "\n",
    "# tension arterielle\n",
    "ax11 = ax[1, 1]\n",
    "df_patients['tension_arterielle'].value_counts().plot(ax=ax11, kind='barh')\n",
    "\n",
    "# tension arterielle\n",
    "ax21 = ax[2, 0]\n",
    "df_patients['consommation_alcool'].value_counts().plot(ax=ax21, kind='barh')\n",
    "\n",
    "# tension arterielle\n",
    "ax22 = ax[2, 1]\n",
    "df_patients['activite_physique'].value_counts().plot(ax=ax22, kind='barh')\n",
    "\n",
    "fig.tight_layout()"
   ]
  },
  {
   "cell_type": "code",
   "execution_count": null,
   "id": "57769347",
   "metadata": {},
   "outputs": [],
   "source": [
    "q = '''\n",
    "select *\n",
    "from personal_data\n",
    "'''\n",
    "df_identification = pd.read_sql(q, conn)"
   ]
  },
  {
   "cell_type": "markdown",
   "id": "da9c67eb",
   "metadata": {},
   "source": [
    "Nombre de personnes dans notre fichier de données marketting:"
   ]
  },
  {
   "cell_type": "code",
   "execution_count": null,
   "id": "23565424",
   "metadata": {},
   "outputs": [],
   "source": [
    "len(df_identification)"
   ]
  },
  {
   "cell_type": "code",
   "execution_count": null,
   "id": "22c82e39",
   "metadata": {},
   "outputs": [],
   "source": [
    "df_identification.head()"
   ]
  },
  {
   "cell_type": "code",
   "execution_count": null,
   "id": "98c2ee5a",
   "metadata": {},
   "outputs": [],
   "source": [
    "fig, ax = plt.subplots(2, 2, figsize=(10, 8))\n",
    "\n",
    "# age distribution\n",
    "ax00 = ax[0, 0]\n",
    "df_identification['age'].hist(ax=ax00)\n",
    "ax00.set_xlabel('age')\n",
    "\n",
    "# sex \"ratio\"\n",
    "ax01 = ax[0, 1]\n",
    "df_identification['sexe'].value_counts().plot(ax=ax01, kind='bar')\n",
    "\n",
    "# repartition according to department\n",
    "ax10 = ax[1, 0]\n",
    "df_identification['code_postal'].apply(lambda x: str(x)[:2]).value_counts().plot(ax=ax10, kind='bar')\n",
    "\n",
    "fig.tight_layout()"
   ]
  },
  {
   "cell_type": "markdown",
   "id": "760ec524",
   "metadata": {},
   "source": [
    "4. Quels sont selon vous dans les données patients les données personnelles (identificateurs & quasi-identificateurs) et les données sensibles ?\n",
    "5. De combien de patients retrouvez vous le nom en faisant une jointure entre ces deux tables ?"
   ]
  },
  {
   "cell_type": "code",
   "execution_count": null,
   "id": "cc51a73d",
   "metadata": {},
   "outputs": [],
   "source": [
    "df_naive_join = pd.merge(\n",
    "    df_identification,\n",
    "    df_patients,\n",
    "    on=('nom', 'prenom', 'sexe', 'age', 'adresse', 'code_postal')\n",
    ")"
   ]
  },
  {
   "cell_type": "markdown",
   "id": "49c14e30",
   "metadata": {},
   "source": [
    "Nombre de patients de notre fichier de données qui correspondent (nom, prenom, sexe, age, adresse, code_postal) à des personnes issues du fichier de données marketting:"
   ]
  },
  {
   "cell_type": "code",
   "execution_count": null,
   "id": "69455d90",
   "metadata": {},
   "outputs": [],
   "source": [
    "len(df_naive_join)"
   ]
  },
  {
   "cell_type": "code",
   "execution_count": null,
   "id": "f9f7f9d3",
   "metadata": {},
   "outputs": [],
   "source": [
    "df_naive_join.head()"
   ]
  },
  {
   "cell_type": "markdown",
   "id": "67980f75",
   "metadata": {},
   "source": [
    "Nombre de patients de notre fichier de données qui correspondent  (nom, prenom, sexe, age, adresse, code_postal) à des personnes issues du fichier de données marketting (sans ambiguité):"
   ]
  },
  {
   "cell_type": "code",
   "execution_count": null,
   "id": "296344ed",
   "metadata": {},
   "outputs": [],
   "source": [
    "len(df_naive_join) - df_naive_join.duplicated().sum()"
   ]
  },
  {
   "cell_type": "markdown",
   "id": "83bc3dce",
   "metadata": {},
   "source": [
    "## Etape 2: Pseudonymisez vos données puis attaquez les\n",
    "\n",
    "1. Supprimer les identificateurs et les remplacer par une valeur unique par patient.\n",
    "2. Chargez les données pseudonymisées. Combien d'individus vous arrivez à identifier de manière unique et pour combien retrouvez vous le nom et le prénom ?\n",
    "    * Quelles sont selon vous les limites de la pseudonymisation ?\n",
    "    * Que feriez vous pour améliorer cette approche ?\n",
    "3. Mettez en oeuvre vos idées. Pour rappel, dans le cadre de votre étude, il vous faut conserver au minimum sujet des patients:\n",
    "    * une idée de l'âge\n",
    "    * le genre\n",
    "    * une idée de la localisation géographique"
   ]
  },
  {
   "cell_type": "markdown",
   "id": "a306718b",
   "metadata": {},
   "source": [
    "### Soluce"
   ]
  },
  {
   "cell_type": "markdown",
   "id": "5d0ef5f0",
   "metadata": {},
   "source": [
    "1. Supprimer les identificateurs et les remplacer par une valeur unique par patient."
   ]
  },
  {
   "cell_type": "code",
   "execution_count": null,
   "id": "dcee122d",
   "metadata": {},
   "outputs": [],
   "source": [
    "df_patients_pseudo = df_patients.copy()\n",
    "del df_patients_pseudo['nom']\n",
    "del df_patients_pseudo['prenom']"
   ]
  },
  {
   "cell_type": "code",
   "execution_count": null,
   "id": "04f43919",
   "metadata": {},
   "outputs": [],
   "source": [
    "df_patients_pseudo.to_sql('sensitive_data_pseudo', conn, if_exists='replace', index=False)"
   ]
  },
  {
   "cell_type": "markdown",
   "id": "c651496a",
   "metadata": {},
   "source": [
    "2. Chargez les données pseudonymisées. Combien d'individus vous arrivez à identifier de manière unique et pour combien retrouvez vous le nom et le prénom ?\n",
    "    * Quelles sont selon vous les limites de la pseudonymisation ?\n",
    "    * Que feriez vous pour améliorer cette approche ?"
   ]
  },
  {
   "cell_type": "code",
   "execution_count": null,
   "id": "250e94a2",
   "metadata": {
    "scrolled": true
   },
   "outputs": [],
   "source": [
    "q = '''\n",
    "select *\n",
    "from sensitive_data_pseudo \n",
    "group by age, sexe, adresse\n",
    "having count(*) == 1\n",
    "'''\n",
    "\n",
    "n_pseudo_unique = pd.read_sql(q, conn).shape[0]"
   ]
  },
  {
   "cell_type": "code",
   "execution_count": null,
   "id": "703086e2",
   "metadata": {},
   "outputs": [],
   "source": [
    "n_pseudo_unique"
   ]
  },
  {
   "cell_type": "code",
   "execution_count": null,
   "id": "45da9125",
   "metadata": {},
   "outputs": [],
   "source": [
    "q = '''\n",
    "with all_matches as (\n",
    "select pdata.nom,\n",
    "       pdata.prenom,\n",
    "       sdata.*\n",
    "from sensitive_data_pseudo as sdata\n",
    "inner join personal_data as pdata\n",
    "on pdata.age = sdata.age and pdata.adresse = sdata.adresse and pdata.sexe = sdata.sexe\n",
    ")\n",
    "select *\n",
    "from all_matches\n",
    "group by age, adresse, sexe\n",
    "having count(*) == 1\n",
    "'''\n",
    "df_pseudo_identified = pd.read_sql(q, conn)"
   ]
  },
  {
   "cell_type": "markdown",
   "id": "08719f83",
   "metadata": {},
   "source": [
    "Nombre de patients de notre fichier de données pseudonymisé qui correspondent (nom, prenom, adresse) à des personnes issues du fichier de données marketting (sans ambiguité):"
   ]
  },
  {
   "cell_type": "code",
   "execution_count": null,
   "id": "97d4f09c",
   "metadata": {},
   "outputs": [],
   "source": [
    "len(df_pseudo_identified)"
   ]
  },
  {
   "cell_type": "code",
   "execution_count": null,
   "id": "d738056c",
   "metadata": {},
   "outputs": [],
   "source": [
    "q = '''\n",
    "with all_matches as (\n",
    "select pdata.nom,\n",
    "       pdata.prenom,\n",
    "       sdata.*\n",
    "from sensitive_data_pseudo as sdata\n",
    "inner join personal_data as pdata\n",
    "on pdata.age = sdata.age and pdata.adresse = sdata.adresse and pdata.sexe = sdata.sexe\n",
    "),\n",
    "\n",
    "ambiguous as (\n",
    "select age, adresse, sexe\n",
    "from all_matches\n",
    "group by age, adresse, sexe\n",
    "having count(*) > 1\n",
    ")\n",
    "select personal_data.*\n",
    "from personal_data\n",
    "join ambiguous\n",
    "on personal_data.age = ambiguous.age and personal_data.sexe = ambiguous.sexe and personal_data.adresse = ambiguous.adresse\n",
    "'''\n",
    "df_pseudo_unidentified = pd.read_sql(q, conn)"
   ]
  },
  {
   "cell_type": "code",
   "execution_count": null,
   "id": "fb84bc8f",
   "metadata": {},
   "outputs": [],
   "source": [
    "df_pseudo_unidentified.sort_values(['sexe', 'age', 'adresse'])"
   ]
  },
  {
   "cell_type": "markdown",
   "id": "3b9cf2db",
   "metadata": {},
   "source": [
    "3. Mettez en oeuvre vos idées. Pour rappel, dans le cadre de votre étude, il vous faut conserver au minimum sujet des patients:\n",
    "    * une idée de l'âge\n",
    "    * le genre\n",
    "    * une idée de la localisation géographique"
   ]
  },
  {
   "cell_type": "code",
   "execution_count": null,
   "id": "f2f3462e",
   "metadata": {},
   "outputs": [],
   "source": [
    "df_patients_anonym_naive = pd.read_sql('select * from sensitive_data_pseudo', conn)\n",
    "s_age = df_patients_anonym_naive['age']\n",
    "df_patients_anonym_naive['age_cut'] = pd.cut(s_age, range(0, 110, 10))\n",
    "del df_patients_anonym_naive['date_naissance']\n",
    "del df_patients_anonym_naive['adresse']\n",
    "del df_patients_anonym_naive['age']"
   ]
  },
  {
   "cell_type": "code",
   "execution_count": null,
   "id": "4dbd1b5b",
   "metadata": {},
   "outputs": [],
   "source": [
    "df_patients_anonym_naive.head()"
   ]
  },
  {
   "cell_type": "code",
   "execution_count": null,
   "id": "283f2404",
   "metadata": {},
   "outputs": [],
   "source": [
    "df_identification_anonym_naive = pd.read_sql('select * from personal_data', conn)\n",
    "s_age = df_identification_anonym_naive['age']\n",
    "df_identification_anonym_naive['age_cut'] = pd.cut(s_age, range(0, 110, 10))"
   ]
  },
  {
   "cell_type": "code",
   "execution_count": null,
   "id": "fbe4f8a9",
   "metadata": {},
   "outputs": [],
   "source": [
    "mask = df_patients_anonym_naive.duplicated(['age_cut', 'code_postal', 'sexe'], keep=False)\n",
    "df_patients_anonym_naive_identifiable = df_patients_anonym_naive[~mask]"
   ]
  },
  {
   "cell_type": "markdown",
   "id": "05d44047",
   "metadata": {},
   "source": [
    "Nombre de patients réidentifiables (identifiés de manière unique dans les données de santé) à partir de l'age (discretisé) du code postal et du sexe:"
   ]
  },
  {
   "cell_type": "code",
   "execution_count": null,
   "id": "21d4c35a",
   "metadata": {},
   "outputs": [],
   "source": [
    "len(df_patients_anonym_naive)"
   ]
  },
  {
   "cell_type": "code",
   "execution_count": null,
   "id": "6d6888ea",
   "metadata": {},
   "outputs": [],
   "source": [
    "df_merge = pd.merge(df_patients_anonym_naive,\n",
    "                    df_identification_anonym_naive,\n",
    "                    on=('age_cut', 'code_postal', 'sexe'),\n",
    "                    how='inner')"
   ]
  },
  {
   "cell_type": "markdown",
   "id": "76322868",
   "metadata": {},
   "source": [
    "Nombre de patients réidentifiés à partir de l'age (discretisé) du code postal et du sexe:"
   ]
  },
  {
   "cell_type": "code",
   "execution_count": null,
   "id": "82dd414a",
   "metadata": {},
   "outputs": [],
   "source": [
    "fig, ax = plt.subplots(figsize=(15, 5))\n",
    "s = df_merge.groupby(['age_cut', 'code_postal', 'sexe']).size()\n",
    "s[(s>0) & (s <=10)].value_counts().sort_index().plot(kind='bar', ax=ax)"
   ]
  },
  {
   "cell_type": "code",
   "execution_count": null,
   "id": "cb509e1e",
   "metadata": {},
   "outputs": [],
   "source": [
    "df_merge_identified = df_merge[~df_merge.duplicated(['age_cut', 'code_postal', 'sexe'], keep=False)]"
   ]
  },
  {
   "cell_type": "code",
   "execution_count": null,
   "id": "183973be",
   "metadata": {},
   "outputs": [],
   "source": [
    "df_merge_identified"
   ]
  },
  {
   "cell_type": "markdown",
   "id": "5d307680",
   "metadata": {},
   "source": [
    "## Anonymisation\n",
    "\n",
    "1. Déterminez le paramètre K associé à votre anonymisation\n",
    "2. Décrivez sur papier un algorithme simple pour automatiser la procédure de K-anonymisation (vous pouvez l'implémenter en bonus)\n",
    "3. 4-anonymisez ces données (manuellement, à partir du package anonymity [(doc)](https://abel-betraoui.github.io/tp-insa-anonymity/anonymity.html#module-anonymity) ou de votre propre implémentation)\n",
    "4. En vous servant des différentes limites de la K-anonymisation, tâchez de retrouver le plus d'informations possibles sur les patients du jeu de données K-anonymisé"
   ]
  },
  {
   "cell_type": "markdown",
   "id": "fc301596",
   "metadata": {},
   "source": [
    "### Soluce"
   ]
  },
  {
   "cell_type": "markdown",
   "id": "1dee4dce",
   "metadata": {},
   "source": [
    "1. Déterminez le paramètre K associé à votre anonymisation"
   ]
  },
  {
   "cell_type": "code",
   "execution_count": null,
   "id": "3e6c6ebe",
   "metadata": {},
   "outputs": [],
   "source": [
    "s = df_patients_anonym_naive.groupby(['sexe', 'code_postal', 'age_cut']).size()\n",
    "s[s>0].min()"
   ]
  },
  {
   "cell_type": "markdown",
   "id": "4e0bbb58",
   "metadata": {},
   "source": [
    "2. Décrivez sur papier un algorithme simple pour automatiser la procédure de K-anonymisation (vous pouvez l'implémenter en bonus)"
   ]
  },
  {
   "cell_type": "markdown",
   "id": "13a14732",
   "metadata": {},
   "source": [
    "<img src=\"images/pseudocode.png\" width=\"300\" alt=\"pseudocode\">\n",
    "\n",
    "K. LeFevre, D. J. DeWitt and R. Ramakrishnan, \"Mondrian Multidimensional K-Anonymity,\" 22nd International Conference on Data Engineering (ICDE'06), 2006, pp. 25-25, doi: 10.1109/ICDE.2006.101."
   ]
  },
  {
   "cell_type": "markdown",
   "id": "4a024d96",
   "metadata": {},
   "source": [
    "2. 5-anonymisez ces données (manuellement ou pensez à un algorithme simple pour le faire)"
   ]
  },
  {
   "cell_type": "code",
   "execution_count": null,
   "id": "476ceada",
   "metadata": {},
   "outputs": [],
   "source": [
    "df_patients_anonym = df_patients.copy()\n",
    "del df_patients_anonym['nom']\n",
    "del df_patients_anonym['prenom']\n",
    "del df_patients_anonym['adresse']"
   ]
  },
  {
   "cell_type": "code",
   "execution_count": null,
   "id": "f4e2acc6",
   "metadata": {},
   "outputs": [],
   "source": [
    "d_metadata = {'age': {},\n",
    " 'code_postal': {},\n",
    " 'sexe': {'prevent_generalization': True},\n",
    " 'activite_physique': {'is_sensitive': True},\n",
    " 'consommation_alcool': {'is_sensitive': True},\n",
    " 'tension_arterielle': {'is_sensitive': True}}"
   ]
  },
  {
   "cell_type": "code",
   "execution_count": null,
   "id": "42cea80f",
   "metadata": {},
   "outputs": [],
   "source": [
    "anonymizer = MondrianAnonymizer(k=5)\n",
    "df_anonymized = anonymizer.anonymize(df_patients_anonym, d_metadata)"
   ]
  },
  {
   "cell_type": "code",
   "execution_count": null,
   "id": "34dfe529",
   "metadata": {},
   "outputs": [],
   "source": [
    "df_anonymized.head()"
   ]
  },
  {
   "cell_type": "code",
   "execution_count": null,
   "id": "306ecd8c",
   "metadata": {},
   "outputs": [],
   "source": [
    "df_anomymized_h = df_anonymized.query('sexe == 1')\n",
    "df_anomymized_f = df_anonymized.query('sexe == 2')"
   ]
  },
  {
   "cell_type": "code",
   "execution_count": null,
   "id": "b81f41af",
   "metadata": {},
   "outputs": [],
   "source": [
    "df_anomymized_h.groupby(['sexe', 'code_postal', 'age']).size().to_frame().rename(columns={0: 'size'}).min()"
   ]
  },
  {
   "cell_type": "code",
   "execution_count": null,
   "id": "62534bc0",
   "metadata": {},
   "outputs": [],
   "source": [
    "df_anomymized_f.groupby(['sexe', 'code_postal', 'age']).size().to_frame().rename(columns={0: 'size'}).min()"
   ]
  },
  {
   "cell_type": "code",
   "execution_count": null,
   "id": "b12d5f84",
   "metadata": {},
   "outputs": [],
   "source": [
    "plot_mondrian(df_patients_anonym.query('sexe == 1'), df_anomymized_h)"
   ]
  },
  {
   "cell_type": "code",
   "execution_count": null,
   "id": "14f555f8",
   "metadata": {},
   "outputs": [],
   "source": [
    "plot_mondrian(df_patients_anonym.query('sexe == 2'), df_anomymized_f)"
   ]
  },
  {
   "cell_type": "markdown",
   "id": "8216f12f",
   "metadata": {},
   "source": [
    "3. En vous servant des différentes limites de la K-anonymisation, tâchez de retrouver le plus d'informations possibles sur les patients du jeu de données K-anonymisé"
   ]
  },
  {
   "cell_type": "code",
   "execution_count": null,
   "id": "0f700cc0",
   "metadata": {},
   "outputs": [],
   "source": [
    "def dummify_cols(df, cols):\n",
    "    df_dummies = pd.get_dummies(df[cols])\n",
    "    df_dummies.rename(columns={\"activite_physique\": \"activite_physique_suffisante\"}, inplace=True)\n",
    "    df_dummies['activite_physique_insuffisante'] = 1 - df_dummies.activite_physique_suffisante\n",
    "\n",
    "    dummy_cols = df_dummies.columns\n",
    "    df_hm = pd.concat(\n",
    "        [df[['sexe', 'code_postal', 'age']],\n",
    "         df_dummies],\n",
    "         axis=1)\n",
    "    return df_hm.groupby(['sexe', 'code_postal', 'age'])[dummy_cols].mean()"
   ]
  },
  {
   "cell_type": "code",
   "execution_count": null,
   "id": "5296ab1f",
   "metadata": {
    "scrolled": false
   },
   "outputs": [],
   "source": [
    "df_hm = dummify_cols(df_anonymized, anonymizer.sensitive)\n",
    "fig, ax = plt.subplots(figsize=(20, 30))\n",
    "sns.heatmap(df_hm[(df_hm == 1).any(axis=1)], ax=ax, annot=True)"
   ]
  },
  {
   "cell_type": "code",
   "execution_count": null,
   "id": "d49ca325",
   "metadata": {
    "scrolled": false
   },
   "outputs": [],
   "source": [
    "filepath_patients_to_find = data_dir / 'patients_to_find.csv'\n",
    "df_patients_to_find = pd.read_csv(filepath_patients_to_find, sep=';')\n",
    "l_patients = [s for _, s in df_patients_to_find.iterrows()]\n",
    "\n",
    "display(df_patients_to_find)\n",
    "\n",
    "for d_patient in l_patients:\n",
    "    display(anonymizer.get_individual(df_anonymized, pd.Series(d_patient)))"
   ]
  },
  {
   "cell_type": "markdown",
   "id": "bf37eac2",
   "metadata": {},
   "source": [
    "6. Pouvez-vous répondre à ces questions ?\n",
    "    * Combien de patients ont participé à l'étude ?\n",
    "    * Combien de patients ont une tension artérielle très élevée ?\n",
    "    * Parmi les patients de 60 ans et plus avec une consommation élevée d'alcool, quel pourcentage a\n",
    "    une tension artérielle très élevée ?\n",
    "    * Quel est le taux de tension artérielle \"très élevée\" à Villeurbanne (69100)?\n",
    "    "
   ]
  },
  {
   "cell_type": "markdown",
   "id": "bb8261f9",
   "metadata": {},
   "source": [
    "Combien de patients ont participé à l'étude ?"
   ]
  },
  {
   "cell_type": "code",
   "execution_count": null,
   "id": "74de7a9e",
   "metadata": {},
   "outputs": [],
   "source": [
    "len(df_anonymized)"
   ]
  },
  {
   "cell_type": "markdown",
   "id": "fd5ef239",
   "metadata": {},
   "source": [
    "Combien de patients ont une tension artérielle très élevée ?"
   ]
  },
  {
   "cell_type": "code",
   "execution_count": null,
   "id": "96b4b9b6",
   "metadata": {},
   "outputs": [],
   "source": [
    "len(df_anonymized.query('tension_arterielle == \"très élevée\"'))"
   ]
  },
  {
   "cell_type": "markdown",
   "id": "b75751e6",
   "metadata": {},
   "source": [
    "Parmi les patients de 60 ans et plus avec une consommation élevée d'alcool, quel pourcentage à une tension artérielle très élevée ?"
   ]
  },
  {
   "cell_type": "code",
   "execution_count": null,
   "id": "0394169f",
   "metadata": {},
   "outputs": [],
   "source": [
    "df_anonymized"
   ]
  },
  {
   "cell_type": "markdown",
   "id": "91d8f0e4",
   "metadata": {},
   "source": [
    "Impossible de répondre, les patients de 60 ans et plus ont été regroupés avec des patients de classe d'âges différentes."
   ]
  },
  {
   "cell_type": "code",
   "execution_count": null,
   "id": "ed9e7e0e",
   "metadata": {},
   "outputs": [],
   "source": [
    "anonymizer.get_individual(df_anonymized, pd.Series({'age': 61}))"
   ]
  },
  {
   "cell_type": "markdown",
   "id": "ee132712",
   "metadata": {},
   "source": [
    "Impossible de répondre, les patients de Villeurbanne ont été regroupés avec des patients d'autres communes."
   ]
  },
  {
   "cell_type": "code",
   "execution_count": null,
   "id": "502d22d7",
   "metadata": {},
   "outputs": [],
   "source": [
    "anonymizer.get_individual(df_anonymized, pd.Series({'code_postal': 69100}))"
   ]
  },
  {
   "cell_type": "markdown",
   "id": "80f8fbc3",
   "metadata": {},
   "source": [
    "## L-diversité\n",
    "\n",
    "1. Utilisez le package anonymity pour comparer les comportements de la K-anonymisation et de la L-diversité. Qu'apporte la L-diversité, à quel(s) coût(s) ?"
   ]
  },
  {
   "cell_type": "code",
   "execution_count": null,
   "id": "ce9e58c2",
   "metadata": {},
   "outputs": [],
   "source": [
    "anonymizer_kl = MondrianAnonymizer(k=5, l=2)\n",
    "df_anonymized_kl = anonymizer_kl.anonymize(df_patients_anonym, d_metadata)\n",
    "df_anonymized_kl_h = df_anonymized_kl.query('sexe == 1')\n",
    "df_anonymized_kl_f = df_anonymized_kl.query('sexe == 2')"
   ]
  },
  {
   "cell_type": "code",
   "execution_count": null,
   "id": "41b1e842",
   "metadata": {},
   "outputs": [],
   "source": [
    "df_hm = dummify_cols(df_anonymized_kl, anonymizer_kl.sensitive)\n",
    "fig, ax = plt.subplots(figsize=(20, 30))\n",
    "sns.heatmap(df_hm[(df_hm > .8).any(axis=1)], ax=ax, annot=True)"
   ]
  },
  {
   "cell_type": "code",
   "execution_count": null,
   "id": "013658b0",
   "metadata": {},
   "outputs": [],
   "source": [
    "plot_mondrian(df_patients_anonym.query('sexe == 1'), df_anonymized_kl_h)"
   ]
  },
  {
   "cell_type": "code",
   "execution_count": null,
   "id": "1d18897f",
   "metadata": {},
   "outputs": [],
   "source": [
    "plot_mondrian(df_patients_anonym.query('sexe == 2'), df_anonymized_kl_f)"
   ]
  },
  {
   "cell_type": "markdown",
   "id": "b1391dfb",
   "metadata": {},
   "source": [
    "## Etape 4 - Créer le doute:  la confidentialité différentielle\n",
    "\n",
    "* En vous inspirant de [ce notebook](https://github.com/OpenMined/PyDP/blob/dev/examples/Tutorial_3-Titanic_demo/titanic_notebook.ipynb), répondez aux questions suivantes et comparez les résultats obtenus **avec ou sans** confidentialité différentielle [(doc)](https://pydp.readthedocs.io/en/latest/pydp.html) ?\n",
    "    * Combien de patients ont participé à l'étude ?\n",
    "    * Combien de patients ont une tension artérielle très élevée ?\n",
    "    * Parmi les patients de 60 ans et plus avec une consommation élevée d'alcool, quel pourcentage a une tension artérielle très élevée ?\n",
    "    * Quel est le taux de tension artérielle \"très élevée\" à Villeurbanne (69100)?\n",
    "    \n",
    "* Utilisez la fonction result au lieu de quick result. \n",
    "    * Quelle est l'influence de epsilon sur le résultat final ?\n",
    "    * Que se passe t-il lorsque le privacy budget est consommé ?\n",
    "    * Pourquoi selon vous ?"
   ]
  },
  {
   "cell_type": "markdown",
   "id": "436290d6",
   "metadata": {},
   "source": [
    "Combien de patients ont participé à l'étude ?"
   ]
  },
  {
   "cell_type": "code",
   "execution_count": null,
   "id": "cae96c80",
   "metadata": {},
   "outputs": [],
   "source": [
    "len(df_patients)"
   ]
  },
  {
   "cell_type": "code",
   "execution_count": null,
   "id": "a306ae57",
   "metadata": {},
   "outputs": [],
   "source": [
    "privacy_budget = 1\n",
    "count = Count(privacy_budget, dtype=\"float\")\n",
    "count.quick_result(df_patients.index)"
   ]
  },
  {
   "cell_type": "code",
   "execution_count": null,
   "id": "3bcf3f59",
   "metadata": {},
   "outputs": [],
   "source": [
    "privacy_budget = 1\n",
    "count = Count(privacy_budget, dtype=\"float\")\n",
    "count.add_entries(df_patients.index)\n",
    "print(count.privacy_budget_left())\n",
    "print(count.result(1))\n",
    "print(count.privacy_budget_left())\n",
    "print(count.result(1))"
   ]
  },
  {
   "cell_type": "markdown",
   "id": "2683e64a",
   "metadata": {},
   "source": [
    "* Utilisez la fonction result au lieu de quick result. \n",
    "    * Quelle est l'influence de epsilon sur le résultat final ? *Plus epsilon est faible plus on se rapproche de la perfect privacy. C'est à dire que le risque est nul, les données obtenues sont par contre inexploitables.*\n",
    "    * Que se passe t-il lorsque le privacy budget est consommé ? *On ne peut plus faire de requêtes.*\n",
    "    * Pourquoi selon vous ? *Cela permet de limiter le risque de differential attacks*"
   ]
  },
  {
   "cell_type": "markdown",
   "id": "6749b245",
   "metadata": {},
   "source": [
    "Combien de patients ont une tension artérielle très élevée ?"
   ]
  },
  {
   "cell_type": "code",
   "execution_count": null,
   "id": "cf485583",
   "metadata": {},
   "outputs": [],
   "source": [
    "privacy_budget = 1\n",
    "count = Count(privacy_budget, dtype=\"float\")\n",
    "count.quick_result(df_patients.index[df_patients.tension_arterielle == 'très élevée'])"
   ]
  },
  {
   "cell_type": "markdown",
   "id": "63fc14a2",
   "metadata": {},
   "source": [
    "Parmi les patients de 60 ans et plus avec une consommation élevée d'alcool, quel pourcentage à une tension artérielle très élevée ?"
   ]
  },
  {
   "cell_type": "code",
   "execution_count": null,
   "id": "26cea6c2",
   "metadata": {},
   "outputs": [],
   "source": [
    "privacy_budget = 1\n",
    "mean = BoundedMean(privacy_budget, 0, 1, dtype=\"float\")\n",
    "dfx = df_patients[(df_patients['consommation_alcool'] == 'élevée') & (df_patients.age >= 60)]\n",
    "s = (dfx.tension_arterielle == 'très élevée').astype(int).tolist()\n",
    "mean.quick_result(s)"
   ]
  },
  {
   "cell_type": "markdown",
   "id": "f0c36bd3",
   "metadata": {},
   "source": [
    "Les patients de villeurbanne ont ils un taux de tension artérielle très élevée plus grand que dans les autres communes?"
   ]
  },
  {
   "cell_type": "code",
   "execution_count": null,
   "id": "f8fcc2ec",
   "metadata": {},
   "outputs": [],
   "source": [
    "privacy_budget = 1\n",
    "mean = BoundedMean(privacy_budget, 0, 1, dtype=\"float\")\n",
    "dfx = df_patients[(df_patients['code_postal'] == 69100)]\n",
    "s = (dfx.tension_arterielle == 'très élevée').astype(int).tolist()\n",
    "mean.quick_result(s)"
   ]
  }
 ],
 "metadata": {
  "kernelspec": {
   "display_name": "Python 3",
   "language": "python",
   "name": "python3"
  },
  "language_info": {
   "codemirror_mode": {
    "name": "ipython",
    "version": 3
   },
   "file_extension": ".py",
   "mimetype": "text/x-python",
   "name": "python",
   "nbconvert_exporter": "python",
   "pygments_lexer": "ipython3",
   "version": "3.8.2"
  }
 },
 "nbformat": 4,
 "nbformat_minor": 5
}
